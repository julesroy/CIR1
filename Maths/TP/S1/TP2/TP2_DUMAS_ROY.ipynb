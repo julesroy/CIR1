{
 "cells": [
  {
   "cell_type": "markdown",
   "metadata": {},
   "source": [
    "# TP 2 : Introduction à Sage"
   ]
  },
  {
   "cell_type": "markdown",
   "metadata": {},
   "source": [
    "Consignes :\n",
    "\n",
    "- TP à faire par groupes de 2. Le groupe de travail sera le même pour toute l'année.\n",
    "- Renommer ce fichier <b>nom1-nom2-TP2</b> , en cliquant sur le titre du fichier \"TP 2 - Introduction à Sage\" en haut à gauche\n",
    "- TP à rendre dans le devoir Teams à la <b>fin de la séance</b>. \n",
    "- <u>Votre rendu doit contenir des explications. Les notebook avec blocs de code sans aucun contexte seront penalisées.</u>\n",
    "\n",
    "\n",
    "  Cliquer deux fois sur la cellule pour completer ci-dessous :\n",
    "\n",
    "- NOM PRENOM : DUMAS Antonin\n",
    "- NOM PRENOM : ROY Jules\n",
    "\n",
    " \n",
    "\n",
    "\n"
   ]
  },
  {
   "cell_type": "markdown",
   "metadata": {},
   "source": [
    "# Exercice 1"
   ]
  },
  {
   "cell_type": "markdown",
   "metadata": {},
   "source": [
    "a) Calculer de manière exacte et numérique : "
   ]
  },
  {
   "cell_type": "markdown",
   "metadata": {},
   "source": [
    "$42!$"
   ]
  },
  {
   "cell_type": "code",
   "execution_count": 1,
   "metadata": {},
   "outputs": [
    {
     "data": {
      "text/plain": [
       "1405006117752879898543142606244511569936384000000000"
      ]
     },
     "execution_count": 1,
     "metadata": {},
     "output_type": "execute_result"
    }
   ],
   "source": [
    "factorial(42) #utilisation de factorial pour calculer une factorielle"
   ]
  },
  {
   "cell_type": "markdown",
   "metadata": {},
   "source": [
    "$\\sqrt{\\frac{1}{5}}+8^3$"
   ]
  },
  {
   "cell_type": "code",
   "execution_count": 11,
   "metadata": {},
   "outputs": [
    {
     "data": {
      "text/html": [
       "<html><script type=\"math/tex; mode=display\">\\newcommand{\\Bold}[1]{\\mathbf{#1}}\\sqrt{\\frac{1}{5}} + 512</script></html>"
      ],
      "text/plain": [
       "sqrt(1/5) + 512"
      ]
     },
     "metadata": {},
     "output_type": "display_data"
    }
   ],
   "source": [
    "show(sqrt(1/5) + 8^3) #sqrt = racine carré et ^ = exposant"
   ]
  },
  {
   "cell_type": "markdown",
   "metadata": {},
   "source": [
    "$\\binom{13}{4} \\cdot \\sqrt[3]{\\frac{27}{22}} \\cdot 17!$"
   ]
  },
  {
   "cell_type": "code",
   "execution_count": 43,
   "metadata": {},
   "outputs": [
    {
     "data": {
      "text/html": [
       "<html><script type=\"math/tex; mode=display\">\\newcommand{\\Bold}[1]{\\mathbf{#1}}762949533265920000 \\, \\left(\\frac{1}{22}\\right)^{\\frac{1}{3}}</script></html>"
      ],
      "text/plain": [
       "762949533265920000*(1/22)^(1/3)"
      ]
     },
     "metadata": {},
     "output_type": "display_data"
    }
   ],
   "source": [
    "show((factorial(13)/(factorial(4)*factorial(13-4)))*((27/22)**(1/3))*factorial(17))"
   ]
  },
  {
   "cell_type": "markdown",
   "metadata": {},
   "source": [
    "b) Calculer la derivée de $\\ln(5x-e^{3x})$"
   ]
  },
  {
   "cell_type": "code",
   "execution_count": 10,
   "metadata": {},
   "outputs": [
    {
     "data": {
      "text/html": [
       "<html><script type=\"math/tex; mode=display\">\\newcommand{\\Bold}[1]{\\mathbf{#1}}-\\frac{3 \\, e^{\\left(3 \\, x\\right)} - 5}{5 \\, x - e^{\\left(3 \\, x\\right)}}</script></html>"
      ],
      "text/plain": [
       "-(3*e^(3*x) - 5)/(5*x - e^(3*x))"
      ]
     },
     "metadata": {},
     "output_type": "display_data"
    }
   ],
   "source": [
    "x = var('x') #création de la variable x\n",
    "show(diff(ln(5*x-exp(3*x)))) #calcul de la dérivée avec la fonction diff"
   ]
  },
  {
   "cell_type": "markdown",
   "metadata": {},
   "source": [
    "c) Afficher des décimales de $\\pi$"
   ]
  },
  {
   "cell_type": "code",
   "execution_count": 31,
   "metadata": {},
   "outputs": [
    {
     "data": {
      "text/plain": [
       "3.141592653589793238462643383279502884197169399375105820974944592307816406286208998628034825342117068"
      ]
     },
     "execution_count": 31,
     "metadata": {},
     "output_type": "execute_result"
    }
   ],
   "source": [
    "N(pi, digits=100) #digits permet l'affichage de décimales de pi"
   ]
  },
  {
   "cell_type": "markdown",
   "metadata": {},
   "source": [
    "d) Factoriser $4x+4y+2x^2y+9x^2+2x^3+9xy$"
   ]
  },
  {
   "cell_type": "code",
   "execution_count": 4,
   "metadata": {},
   "outputs": [
    {
     "data": {
      "text/plain": [
       "(2*x + 1)*(x + y)*(x + 4)"
      ]
     },
     "execution_count": 4,
     "metadata": {},
     "output_type": "execute_result"
    }
   ],
   "source": [
    "x = var('x') #création de la variable x\n",
    "y = var('y') #création de la variable y\n",
    "factor(4*x+4*y+2*x^2*y+9*x^2+2*x^3+9*x*y) #utilisation de la fonction factor pour factoriser l'expression"
   ]
  },
  {
   "cell_type": "markdown",
   "metadata": {},
   "source": [
    "# Exercice 2"
   ]
  },
  {
   "cell_type": "markdown",
   "metadata": {},
   "source": [
    "a) Définissez la fonction symbolique $f(x)=\\frac{1}{2+x^4}$"
   ]
  },
  {
   "cell_type": "code",
   "execution_count": 20,
   "metadata": {},
   "outputs": [
    {
     "name": "stdout",
     "output_type": "stream",
     "text": [
      "1/18\n"
     ]
    }
   ],
   "source": [
    "def f(x): #définition de la fonction\n",
    "    result = 1/(2+x^4) #calcul dans la fonction\n",
    "    return result #avec return, on renvoie la valeur du calcul effectué précédemment"
   ]
  },
  {
   "cell_type": "markdown",
   "metadata": {},
   "source": [
    "b) Calculez $f(2)$ de deux fa&ccedil;ons diff&eacute;rentes : valeur exacte et approximation."
   ]
  },
  {
   "cell_type": "code",
   "execution_count": 23,
   "metadata": {},
   "outputs": [
    {
     "name": "stdout",
     "output_type": "stream",
     "text": [
      "1/18\n",
      "0.0555555555555556\n"
     ]
    }
   ],
   "source": [
    "print(f(2)) #on obtient ici la valeur exacte de f(2)\n",
    "print(f(2.)) #on obtient ici la valeur approximative de f(2)"
   ]
  },
  {
   "cell_type": "markdown",
   "metadata": {},
   "source": [
    "c) Tracer le graphe de $f$ en vert sur l'intervalle $[-3,3]$."
   ]
  },
  {
   "cell_type": "code",
   "execution_count": 27,
   "metadata": {},
   "outputs": [
    {
     "data": {
      "image/png": "[encoded data removed]",
      "text/plain": [
       "Graphics object consisting of 1 graphics primitive"
      ]
     },
     "execution_count": 27,
     "metadata": {},
     "output_type": "execute_result"
    }
   ],
   "source": [
    "x = var('x') #création de la variable x\n",
    "plot(f(x),-3,3, color=\"green\")"
   ]
  },
  {
   "cell_type": "markdown",
   "metadata": {},
   "source": [
    "d) On considère $f: \\mathbb{R} \\rightarrow \\mathbb{R}$. $f$ est-elle injective ? surjective ? bijective ? Justifier."
   ]
  },
  {
   "cell_type": "code",
   "execution_count": null,
   "metadata": {},
   "outputs": [],
   "source": [
    "#la fonction n'est pas injective\n",
    "#la fonction est surjective car f(-2) = f(2)\n",
    "#pour être bijective, une fonction doit être injective et surjective, donc f(x) n'est pas bijective car pas injective"
   ]
  },
  {
   "cell_type": "markdown",
   "metadata": {},
   "source": [
    "e) Donner et tracer une restriction bijective de $f$."
   ]
  },
  {
   "cell_type": "code",
   "execution_count": null,
   "metadata": {},
   "outputs": [],
   "source": []
  },
  {
   "cell_type": "markdown",
   "metadata": {},
   "source": [
    "# Exercice 3"
   ]
  },
  {
   "cell_type": "markdown",
   "metadata": {},
   "source": [
    "On veut estimer la valeur de la constante mathématique $e$ en utilisant la formule\n",
    "$$e=\\displaystyle \\sum_{k=0}^n \\dfrac{1}{k!}$$\n",
    "\n",
    "a) Programmer avec une boucle l'estimation de $e$ pour un certain ordre $n$.\n"
   ]
  },
  {
   "cell_type": "code",
   "execution_count": 39,
   "metadata": {},
   "outputs": [
    {
     "name": "stdout",
     "output_type": "stream",
     "text": [
      "8/3\n"
     ]
    }
   ],
   "source": [
    "n=3                              # je définis n vaut 3\n",
    "somme=0                          # j'initialise ma variable somme a 0\n",
    "for i in range(0,n+1):           # j'utilise une boucle for de 0 a n \n",
    "    somme+=(1/factorial(i))      # j'ajoute a la somme le resultat de 1/k!\n",
    "print(somme)                     #j'affiche la valeur de la variable somme"
   ]
  },
  {
   "cell_type": "markdown",
   "metadata": {},
   "source": [
    "b) Vérifier votre résultat avec la commande `sum`"
   ]
  },
  {
   "cell_type": "code",
   "execution_count": 38,
   "metadata": {},
   "outputs": [
    {
     "name": "stdout",
     "output_type": "stream",
     "text": [
      "8/3\n"
     ]
    }
   ],
   "source": [
    "n=3                                  # j'initialise n a 3\n",
    "e=sum(1/factorial(i) for i in [0..n]) # je fais une somme de 1/k! de la valeur 0 a n\n",
    "print(e)                              # j'affiche le resultat de la somme"
   ]
  },
  {
   "cell_type": "markdown",
   "metadata": {},
   "source": [
    "# Exercice 4"
   ]
  },
  {
   "cell_type": "markdown",
   "metadata": {},
   "source": [
    "On tire 5 cartes dans un jeu de 32 cartes usuel. Combien y a-t-il de tirages possibles vérifiant la condition suivante :\n",
    "\n",
    "                    Il y a au moins un 10 parmi les cartes tirées\n",
    "\n",
    "Donnez votre réponse de deux manières différentes : avec et sans la boucle."
   ]
  },
  {
   "cell_type": "code",
   "execution_count": 37,
   "metadata": {},
   "outputs": [
    {
     "name": "stdout",
     "output_type": "stream",
     "text": [
      "103096\n"
     ]
    }
   ],
   "source": [
    "#Première méthode sans boucle\n",
    "pos_s10=0  #j'initialise la var pos_s10 qui va contenir le nombre de tirages possibles sans 10 \n",
    "pos_a10=0  #j'initialise la var pos_a10 qui va contenir le nombre de tirages possibles avec un 10 \n",
    "resultat=0\n",
    "pos_a10=binomial(32,5) #nombre de tirage sans 10\n",
    "pos_s10=binomial(28,5) # nombre de tirage avec un 10 donc suelement 4 cartes a tirer\n",
    "resultat=pos_a10-pos_s10  # je soustrait les deux valeurs\n",
    "print(resultat)"
   ]
  },
  {
   "cell_type": "code",
   "execution_count": 41,
   "metadata": {},
   "outputs": [
    {
     "name": "stdout",
     "output_type": "stream",
     "text": [
      "103096\n"
     ]
    }
   ],
   "source": [
    "#Deuxième méthode avec boucle\n",
    "possibilites = 0 #initialisation du nombre de possibilités\n",
    "for i in range(1,5): #on démarre la boucle\n",
    "    possibilites += binomial(4,i)*binomial(28,5-i) #on effectue le calcul\n",
    "print(possibilites)"
   ]
  },
  {
   "cell_type": "code",
   "execution_count": null,
   "metadata": {},
   "outputs": [],
   "source": []
  }
 ],
 "metadata": {
  "kernelspec": {
   "display_name": "SageMath 9.1",
   "language": "sage",
   "name": "sagemath"
  },
  "language_info": {
   "codemirror_mode": {
    "name": "ipython",
    "version": 3
   },
   "file_extension": ".py",
   "mimetype": "text/x-python",
   "name": "python",
   "nbconvert_exporter": "python",
   "pygments_lexer": "ipython3",
   "version": "3.7.3"
  }
 },
 "nbformat": 4,
 "nbformat_minor": 1
}
