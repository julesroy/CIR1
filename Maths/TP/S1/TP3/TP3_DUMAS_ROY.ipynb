{
 "cells": [
  {
   "cell_type": "markdown",
   "metadata": {},
   "source": [
    "# TP 3 - Nombres complexes"
   ]
  },
  {
   "cell_type": "markdown",
   "metadata": {},
   "source": [
    "Consignes :\n",
    "\n",
    "- TP à faire par groupes de 2. Le groupe de travail sera le même pour toute l'année.\n",
    "- Renommer ce fichier <b>nom1-nom2-TP3</b> , en cliquant sur le titre du fichier \"TP 3 - Nombres complexes\" en haut à gauche\n",
    "- TP à rendre dans le devoir Teams à la <b>fin de la séance</b>. Vous avez jusqu'à lundi 7 novembre à minuit pour rendre une version à jour de votre TP si vous le souhaitez.\n",
    "- <u>Votre rendu doit contenir des explications. Les notebook avec blocs de code sans aucun contexte seront penalisées.</u>\n",
    "\n",
    "\n",
    "  Cliquer deux fois sur la cellule pour completer ci-dessous :\n",
    "\n",
    "- NOM PRENOM : \n",
    "- NOM PRENOM :"
   ]
  },
  {
   "cell_type": "markdown",
   "metadata": {},
   "source": [
    "# 1) Introduction aux complexes"
   ]
  },
  {
   "cell_type": "markdown",
   "metadata": {},
   "source": [
    "\n",
    "\n",
    "Avec Sage nous pouvons faire des calculs avec les nombres complexes.\n",
    "\n",
    "Le symbole I représente la racine carrée de -1. La notation habituelle i est synonyme de I.\n",
    "\n"
   ]
  },
  {
   "cell_type": "code",
   "execution_count": 1,
   "metadata": {},
   "outputs": [
    {
     "data": {
      "text/plain": [
       "I"
      ]
     },
     "execution_count": 1,
     "metadata": {},
     "output_type": "execute_result"
    }
   ],
   "source": [
    "I"
   ]
  },
  {
   "cell_type": "code",
   "execution_count": 2,
   "metadata": {},
   "outputs": [
    {
     "data": {
      "text/plain": [
       "I"
      ]
     },
     "execution_count": 2,
     "metadata": {},
     "output_type": "execute_result"
    }
   ],
   "source": [
    "i"
   ]
  },
  {
   "cell_type": "code",
   "execution_count": 3,
   "metadata": {},
   "outputs": [
    {
     "data": {
      "text/plain": [
       "-1"
      ]
     },
     "execution_count": 3,
     "metadata": {},
     "output_type": "execute_result"
    }
   ],
   "source": [
    "I^2"
   ]
  },
  {
   "cell_type": "code",
   "execution_count": 4,
   "metadata": {},
   "outputs": [
    {
     "data": {
      "text/plain": [
       "-1"
      ]
     },
     "execution_count": 4,
     "metadata": {},
     "output_type": "execute_result"
    }
   ],
   "source": [
    "i^2"
   ]
  },
  {
   "cell_type": "markdown",
   "metadata": {},
   "source": [
    "I n’appartient pas aux rationnels :"
   ]
  },
  {
   "cell_type": "code",
   "execution_count": 5,
   "metadata": {},
   "outputs": [
    {
     "data": {
      "text/plain": [
       "False"
      ]
     },
     "execution_count": 5,
     "metadata": {},
     "output_type": "execute_result"
    }
   ],
   "source": [
    "I in QQ"
   ]
  },
  {
   "cell_type": "markdown",
   "metadata": {},
   "source": [
    "Le nombre décimal 1.2 est considéré comme un élément de QQ :"
   ]
  },
  {
   "cell_type": "code",
   "execution_count": 6,
   "metadata": {},
   "outputs": [
    {
     "data": {
      "text/plain": [
       "True"
      ]
     },
     "execution_count": 6,
     "metadata": {},
     "output_type": "execute_result"
    }
   ],
   "source": [
    "1.2 in QQ"
   ]
  },
  {
   "cell_type": "markdown",
   "metadata": {},
   "source": [
    "<p>On peut calculer la partie r&eacute;elle (par la fonction <strong><span style=\"font-family: courier new,courier;\">real_part</span></strong>), la partie imaginaire (<strong><span style=\"font-family: courier new,courier;\">imag_part</span></strong>), le module (<strong><span style=\"font-family: courier new,courier;\">abs</span></strong>) et l'argument (<strong><span style=\"font-family: courier new,courier;\">arg</span></strong>) d'un nombre complexe $z=ai+b$.</p>"
   ]
  },
  {
   "cell_type": "code",
   "execution_count": 8,
   "metadata": {},
   "outputs": [
    {
     "name": "stdout",
     "output_type": "stream",
     "text": [
      "1 -1 sqrt(2) -1/4*pi\n"
     ]
    }
   ],
   "source": [
    "z=1-I\n",
    "print (real_part(z), imag_part(z), abs(z), arg(z))"
   ]
  },
  {
   "cell_type": "code",
   "execution_count": 9,
   "metadata": {},
   "outputs": [
    {
     "data": {
      "text/html": [
       "<html><script type=\"math/tex; mode=display\">\\newcommand{\\Bold}[1]{\\mathbf{#1}}\\sqrt{2}</script></html>"
      ],
      "text/plain": [
       "sqrt(2)"
      ]
     },
     "metadata": {},
     "output_type": "display_data"
    }
   ],
   "source": [
    "show(abs(z))"
   ]
  },
  {
   "cell_type": "markdown",
   "metadata": {},
   "source": [
    "# Exercice 1"
   ]
  },
  {
   "cell_type": "markdown",
   "metadata": {},
   "source": [
    "\n",
    "<p>Calculer et afficher la partie re&eacute;lle, imaginaire, le module et l'argument de $z^0,z^1,z^2\\ldots z^{10}$ avec $z=1+2\\mathrm{i}$.<span style=\"text-decoration: underline;\"><strong><br /></strong></span></p>"
   ]
  },
  {
   "cell_type": "code",
   "execution_count": 11,
   "metadata": {},
   "outputs": [
    {
     "name": "stdout",
     "output_type": "stream",
     "text": [
      "1 0 1 0\n",
      "1 2 sqrt(5) arctan(2)\n",
      "-3 4 5 pi - arctan(4/3)\n",
      "-11 -2 5*sqrt(5) -pi + arctan(2/11)\n",
      "-7 -24 25 -pi + arctan(24/7)\n",
      "41 -38 25*sqrt(5) -arctan(38/41)\n",
      "117 44 125 arctan(44/117)\n",
      "29 278 125*sqrt(5) arctan(278/29)\n",
      "-527 336 625 pi - arctan(336/527)\n",
      "-1199 -718 625*sqrt(5) -pi + arctan(718/1199)\n",
      "237 -3116 3125 -arctan(3116/237)\n"
     ]
    }
   ],
   "source": [
    "z=1+2*i\n",
    "for i in[0..10]:\n",
    "    affichage=z^i\n",
    "    print (real_part(affichage), imag_part(affichage), abs(affichage), arg(affichage))"
   ]
  },
  {
   "cell_type": "markdown",
   "metadata": {},
   "source": [
    "# 2) Equations complexes"
   ]
  },
  {
   "cell_type": "markdown",
   "metadata": {},
   "source": [
    "<p> </p>\n",
    "<p> </p>\n",
    "<p> </p>\n",
    "<p> </p>\n",
    "<p> </p>\n",
    "<p> </p>\n",
    "<p>Sage peut trouver les solutions d'une &eacute;quation.</p>\n",
    "<p>La fonction <strong><code class=\"docutils literal\"><span class=\"pre\">solve</span></code></strong> r&eacute;sout des &eacute;quations. Pour l&rsquo;utiliser, il convient de sp&eacute;cifier d&rsquo;abord les variables.</p>\n",
    "<p>Les arguments de <span style=\"font-family: courier new,courier;\"><strong><code class=\"docutils literal\"><span class=\"pre\">solve</span></code></strong></span> sont alors une &eacute;quation suivie de la ou des variables &agrave; calculer.</p>"
   ]
  },
  {
   "cell_type": "code",
   "execution_count": 3,
   "metadata": {},
   "outputs": [
    {
     "data": {
      "text/plain": [
       "[x == -1, x == 1]"
      ]
     },
     "execution_count": 3,
     "metadata": {},
     "output_type": "execute_result"
    }
   ],
   "source": [
    "x = var('x')\n",
    "solve(x^2-1,x)"
   ]
  },
  {
   "cell_type": "markdown",
   "metadata": {},
   "source": [
    "# Exercice 2"
   ]
  },
  {
   "cell_type": "markdown",
   "metadata": {},
   "source": [
    "\n",
    "<p>R&eacute;soudre les &eacute;quations suivantes :<br /></p>\n",
    "<ol>\n",
    "<li>$z^2+2z+6=0$</li>\n",
    "<li>$2z^2-(1+3\\mathrm{i})z+2(-1+\\mathrm{i})=0$</li>\n",
    "<li>$z^3-(14+\\mathrm{i})z^2+(58+14\\mathrm{i})z-58\\mathrm{i}=0$</li>\n",
    "</ol>"
   ]
  },
  {
   "cell_type": "code",
   "execution_count": 4,
   "metadata": {},
   "outputs": [
    {
     "data": {
      "text/plain": [
       "[z == -I*sqrt(5) - 1, z == I*sqrt(5) - 1]"
      ]
     },
     "execution_count": 4,
     "metadata": {},
     "output_type": "execute_result"
    }
   ],
   "source": [
    "#Solutions équation 1\n",
    "z = var('z')\n",
    "solve(z**2+2*z+6,z)"
   ]
  },
  {
   "cell_type": "code",
   "execution_count": 5,
   "metadata": {},
   "outputs": [
    {
     "data": {
      "text/plain": [
       "[z == -1/4*sqrt(-10*I + 8) + 3/4*I + 1/4, z == 1/4*sqrt(-10*I + 8) + 3/4*I + 1/4]"
      ]
     },
     "execution_count": 5,
     "metadata": {},
     "output_type": "execute_result"
    }
   ],
   "source": [
    "#Solutions équation 2\n",
    "z = var('z')\n",
    "solve(2*z**2-(1+3*I)*z+2*(-1+I),z)"
   ]
  },
  {
   "cell_type": "code",
   "execution_count": 6,
   "metadata": {},
   "outputs": [
    {
     "data": {
      "text/plain": [
       "[z == I, z == (-3*I + 7), z == (3*I + 7)]"
      ]
     },
     "execution_count": 6,
     "metadata": {},
     "output_type": "execute_result"
    }
   ],
   "source": [
    "#Solutions équation 3\n",
    "z = var('z')\n",
    "solve(z**3-(14+I)*z**2+(58+14*I)*z-58*I,z)"
   ]
  },
  {
   "cell_type": "markdown",
   "metadata": {},
   "source": [
    "# 3) Géométrie du plan complexe"
   ]
  },
  {
   "cell_type": "markdown",
   "metadata": {},
   "source": [
    "# 3a) Introduction"
   ]
  },
  {
   "cell_type": "markdown",
   "metadata": {},
   "source": [
    "<img src=basecomplexes.jpg></img>"
   ]
  },
  {
   "cell_type": "markdown",
   "metadata": {},
   "source": [
    "# Exercice 3"
   ]
  },
  {
   "cell_type": "markdown",
   "metadata": {},
   "source": [
    "Dans le plan rapporté à un repère orthonormé $(O,u,v)$, on considère les points $A, B, C$ et $D$ d'affixe respectives $a=-1+\\mathrm{i}$, $b=-1-\\mathrm{i}$, $c=2\\mathrm{i}$ et $d=2-2\\mathrm{i}$.\n",
    "\n",
    "a) Placer ces points dans le plan complexe.\n",
    "\n",
    "\n",
    "SUGGESTIONS :\n",
    "\n",
    "Utiliser la fonction `point`.\n",
    "Si vous voulez ajouter du texte sur le graphe, utiliser la fonction `text`.\n",
    "On peut dessiner sur un seul graphe plusieurs fonctions ou du texte avec le symbole `+`\n",
    "\n",
    "Exemple : `point((2,3)) + text( \"(2,3)\", (2.1,3.1), xmin = 2, xmax = 3.5, ymin = 2, ymax = 3.5)`"
   ]
  },
  {
   "cell_type": "code",
   "execution_count": 42,
   "metadata": {},
   "outputs": [
    {
     "data": {
      "image/png": "[encoded data removed]",
      "text/plain": [
       "Graphics object consisting of 8 graphics primitives"
      ]
     },
     "execution_count": 42,
     "metadata": {},
     "output_type": "execute_result"
    }
   ],
   "source": [
    "point((-1,1)) + text( \"A\", (-1.1,1.1), xmin = -4, xmax = 4, ymin = -4, ymax = 4)+ point((-1,-1)) + text( \"B\",(-1.1,-1.1), xmin = -4, xmax = 4, ymin = -4, ymax = 4)+ point((0,2)) + text( \"C\",(0.1,2.1), xmin = -4, xmax = 4, ymin = -4, ymax = 4)+ point((2,-2)) + text( \"D\",(2.1,-2.1), xmin = -4, xmax = 4, ymin = -4, ymax = 4)"
   ]
  },
  {
   "cell_type": "markdown",
   "metadata": {},
   "source": [
    "b) Calculer $\\dfrac{c-a}{d-a}$ et en déduire la nature du triangle $ACD$."
   ]
  },
  {
   "cell_type": "code",
   "execution_count": 26,
   "metadata": {},
   "outputs": [
    {
     "data": {
      "text/html": [
       "<html><script type=\"math/tex; mode=display\">\\newcommand{\\Bold}[1]{\\mathbf{#1}}\\frac{1}{3} i</script></html>"
      ],
      "text/plain": [
       "1/3*I"
      ]
     },
     "metadata": {},
     "output_type": "display_data"
    }
   ],
   "source": [
    "#Calcul de (c-a)/(d-a)\n",
    "calc = ((2*i) - (-1 + i)) / ((2 - 2 * i) - (-1 + i))\n",
    "show(calc)\n",
    "\n",
    "#ACD est donc isocèle en D"
   ]
  },
  {
   "cell_type": "markdown",
   "metadata": {},
   "source": [
    "c) En s'aidant de la figure géométrique, montrer que les points $A,B,C$ et $D$ sont sur un même cercle dont on précisera le centre et le rayon."
   ]
  },
  {
   "cell_type": "code",
   "execution_count": null,
   "metadata": {},
   "outputs": [],
   "source": [
    "point((-1,1)) + text( \"A\", (-1.1,1.1), xmin = -4, xmax = 4, ymin = -4, ymax = 4)+ point((-1,-1)) + text( \"B\",(-1.1,-1.1), xmin = -4, xmax = 4, ymin = -4, ymax = 4)+ point((0,2)) + text( \"C\",(0.1,2.1), xmin = -4, xmax = 4, ymin = -4, ymax = 4)+ point((2,-2)) + text( \"D\",(2.1,-2.1), xmin = -4, xmax = 4, ymin = -4, ymax = 4)+circle((1,0),sqrt(5))\n",
    "#Le centre du cercle est 1, pour trouver le rayon j'ai definis un triangle B,(1,0),(1,-1) avec le théoreme de Pythagore je trouve la valeur de l'hypotenuse qui vaut racine de 5 donc le rayon vaut racine de 5"
   ]
  },
  {
   "cell_type": "markdown",
   "metadata": {},
   "source": [
    "# 3b) Transformations"
   ]
  },
  {
   "cell_type": "markdown",
   "metadata": {},
   "source": [
    "<img src=tra.jpg></img>"
   ]
  },
  {
   "cell_type": "markdown",
   "metadata": {},
   "source": [
    "# Exercice 4"
   ]
  },
  {
   "cell_type": "markdown",
   "metadata": {},
   "source": [
    "Soient $f_1$, $f_2$ et $f_3$ trois transformations du plan complexe définies par$$f_1(z)=\\frac{1}{\\mathrm{i}}z \\qquad f_2(z)=z+(2+\\mathrm{i}) \\qquad f_3(z)=(1+\\mathrm{i}\\sqrt{3}) z+\\sqrt{3}(1-\\mathrm{i})$$\n",
    "\n",
    "\n",
    "<p> et $O$ le point d'affixe $z_O = 0$ et $A$ le point d'affixe $z_A = 1+\\mathrm{i}$.\n",
    "\n",
    "\n",
    "a) Définir $f_1$, $f_2$ et $f_3$ et calculer l'image de $A$ et de $O$ par chaque fonction.\n"
   ]
  },
  {
   "cell_type": "code",
   "execution_count": 1,
   "metadata": {},
   "outputs": [
    {
     "data": {
      "text/html": [
       "<html><script type=\"math/tex; mode=display\">\\newcommand{\\Bold}[1]{\\mathbf{#1}}0</script></html>"
      ],
      "text/plain": [
       "0"
      ]
     },
     "metadata": {},
     "output_type": "display_data"
    },
    {
     "data": {
      "text/html": [
       "<html><script type=\"math/tex; mode=display\">\\newcommand{\\Bold}[1]{\\mathbf{#1}}-i + 1</script></html>"
      ],
      "text/plain": [
       "-I + 1"
      ]
     },
     "metadata": {},
     "output_type": "display_data"
    }
   ],
   "source": [
    "#f1\n",
    "def f1(z):\n",
    "    fct = (1/i)*z\n",
    "    return fct\n",
    "\n",
    "show(f1(0)) #point d'affixe zo\n",
    "show(f1(1+i)) #point d'affixe za"
   ]
  },
  {
   "cell_type": "code",
   "execution_count": 2,
   "metadata": {},
   "outputs": [
    {
     "data": {
      "text/html": [
       "<html><script type=\"math/tex; mode=display\">\\newcommand{\\Bold}[1]{\\mathbf{#1}}i + 2</script></html>"
      ],
      "text/plain": [
       "I + 2"
      ]
     },
     "metadata": {},
     "output_type": "display_data"
    },
    {
     "data": {
      "text/html": [
       "<html><script type=\"math/tex; mode=display\">\\newcommand{\\Bold}[1]{\\mathbf{#1}}2 i + 3</script></html>"
      ],
      "text/plain": [
       "2*I + 3"
      ]
     },
     "metadata": {},
     "output_type": "display_data"
    }
   ],
   "source": [
    "#f2\n",
    "def f2(z):\n",
    "    fct = z + (2+i)\n",
    "    return fct\n",
    "\n",
    "show(f2(0)) #point d'affixe zo\n",
    "show(f2(1+i)) #point d'affixe za"
   ]
  },
  {
   "cell_type": "code",
   "execution_count": 3,
   "metadata": {},
   "outputs": [
    {
     "data": {
      "text/html": [
       "<html><script type=\"math/tex; mode=display\">\\newcommand{\\Bold}[1]{\\mathbf{#1}}-\\left(i - 1\\right) \\, \\sqrt{3}</script></html>"
      ],
      "text/plain": [
       "-(I - 1)*sqrt(3)"
      ]
     },
     "metadata": {},
     "output_type": "display_data"
    },
    {
     "data": {
      "text/html": [
       "<html><script type=\"math/tex; mode=display\">\\newcommand{\\Bold}[1]{\\mathbf{#1}}i + 1</script></html>"
      ],
      "text/plain": [
       "I + 1"
      ]
     },
     "metadata": {},
     "output_type": "display_data"
    }
   ],
   "source": [
    "#f3\n",
    "def f3(z):\n",
    "    fct = z*(1 + i*sqrt(3)) + sqrt(3)*(1 - i)\n",
    "    return fct\n",
    "\n",
    "show(f3(0)) #point d'affixe zo\n",
    "show(f3(1+i)) #point d'affixe za"
   ]
  },
  {
   "cell_type": "markdown",
   "metadata": {},
   "source": [
    "b) Repr&eacute;senter graphiquement les points :\n",
    "\n",
    "- $A$ en bleu ;\n",
    "- $A1$ d'affixe l'image de $A$ par la fonction $f_1$ en rouge ; \n",
    "- $A2$ d'affixe l'image de $A$ par la fonction $f_2$ en vert ; \n",
    "- $A3$ d'affixe l'image de $A$ par la fonction $f_3$ en noir."
   ]
  },
  {
   "cell_type": "code",
   "execution_count": 17,
   "metadata": {},
   "outputs": [
    {
     "data": {
      "image/png": "[encoded data removed]",
      "text/plain": [
       "Graphics object consisting of 8 graphics primitives"
      ]
     },
     "execution_count": 17,
     "metadata": {},
     "output_type": "execute_result"
    }
   ],
   "source": [
    "point((1,1)) + text( \"A\", (1.5,1.5), xmin = -4, xmax = 4, ymin = -4, ymax = 4, color = \"blue\") + point((1,-1), color = \"red\") + text( \"A1\", (1.5,-1.5), xmin = -4, xmax = 4, ymin = -4, ymax = 4, color = \"red\") + point((3,2), color = \"green\") + text( \"A2\", (3.5,2.5), xmin = -4, xmax = 4, ymin = -4, ymax = 4, color = \"green\") + point((1,1), color = \"black\") + text( \"A3\", (0.5,1), xmin = -4, xmax = 4, ymin = -4, ymax = 4, color = \"black\")\n",
    "#On remarque que A et A3 sont confondus"
   ]
  },
  {
   "cell_type": "markdown",
   "metadata": {},
   "source": [
    "c) Tracer les segments $OA$ en bleu, $OA1$ en rouge, $OA2$ en vert et $OA3$ en noir. \n",
    "\n",
    "A partir du graphe, déterminer la nature (rotation, translation, homothétie ou rotation + homothétie) et les éléments caractéristiques des transformations géométriques $f_1$, $f_2$ et $f_3$ (centre, rapport, angle)."
   ]
  },
  {
   "cell_type": "code",
   "execution_count": 25,
   "metadata": {},
   "outputs": [
    {
     "data": {
      "image/png": "[encoded data removed]",
      "text/plain": [
       "Graphics object consisting of 12 graphics primitives"
      ]
     },
     "execution_count": 25,
     "metadata": {},
     "output_type": "execute_result"
    }
   ],
   "source": [
    "#Segments\n",
    "line([(0,0), (1,1)], color = \"blue\") + line([(0,0), (1,-1)], color = \"red\") + line([(0,0), (3,2)], color = \"green\") + line([(0,0), (1,1)], color = \"black\") + point((1,1)) + text( \"A\", (1.5,1.5), xmin = -4, xmax = 4, ymin = -4, ymax = 4, color = \"blue\") + point((1,-1), color = \"red\") + text( \"A1\", (1.5,-1.5), xmin = -4, xmax = 4, ymin = -4, ymax = 4, color = \"red\") + point((3,2), color = \"green\") + text( \"A2\", (3.5,2.5), xmin = -4, xmax = 4, ymin = -4, ymax = 4, color = \"green\") + point((1,1), color = \"black\") + text( \"A3\", (0.5,1), xmin = -4, xmax = 4, ymin = -4, ymax = 4, color = \"black\")\n",
    "#On remarque que OA et OA3 sont confondus"
   ]
  },
  {
   "cell_type": "code",
   "execution_count": null,
   "metadata": {},
   "outputs": [],
   "source": [
    "#f1 translation"
   ]
  },
  {
   "cell_type": "code",
   "execution_count": null,
   "metadata": {},
   "outputs": [],
   "source": [
    "#f2 rotation"
   ]
  },
  {
   "cell_type": "code",
   "execution_count": null,
   "metadata": {},
   "outputs": [],
   "source": [
    "#f3 "
   ]
  },
  {
   "cell_type": "markdown",
   "metadata": {},
   "source": [
    "# Exercice 5"
   ]
  },
  {
   "cell_type": "markdown",
   "metadata": {},
   "source": [
    "a) Soit $ABC$ le triangle défini par les points $A$, $B$, $C$ d'affixes respectives :</p>\n",
    "$$z_A = 0 \\qquad  z_B = 1+\\mathrm{i} \\qquad z_C = -\\frac{3}{2}+\\frac{2}{3}\\mathrm{i}$$\n",
    "Executer la cellule ci-dessous dans laquelle il y a la définition de la fonction `sim`. Utiliser cette fonction pour afficher l'image de $ABC$ par les transformations suivantes :\n",
    "\n",
    "$$f_1(z)=\\frac{1}{3}z+\\frac{1}{3}\\mathrm{i} \\qquad f_2(z)=2\\mathrm{i}z+1-\\mathrm{i} \\qquad f_3(z)=\\frac{1}{\\mathrm{i}}z$$\n",
    "\n",
    "b) Exp&eacute;rimenter l'utilisation de la fonction `sim` sur un autre polygône et une autre transformation au choix.</li>"
   ]
  },
  {
   "cell_type": "code",
   "execution_count": 1,
   "metadata": {},
   "outputs": [],
   "source": [
    "#Definition de la fonction similitude\n",
    "#Entree : liste de points, paramètres de la similitude (z'=az+b) a et b, \n",
    "#         nombre de similitudes, si c=1, on calcule la similitude indirecte.\n",
    "t = var('t')\n",
    "def sim(P,a,b,numSim,c):\n",
    "    g = Graphics();\n",
    "    m=matrix(CC, numSim+1,len(P));\n",
    "    for k in range(len(P)):\n",
    "        m[0,k]=P[k];\n",
    "    for k in range(len(P)-1) :\n",
    "        g += line([(real(m[0,k]),imag(m[0,k])) , (real(m[0,k+1]),imag(m[0,k+1]))], color='red', aspect_ratio=1)\n",
    "    if c == 1 :\n",
    "        for k in range(len(P)):\n",
    "            m[0,k]=conjugate(P[k]);  \n",
    "    for n in range(numSim):\n",
    "        for k in range(len(P)):\n",
    "            m[n+1,k]=a*m[n,k]+b;\n",
    "    for n in range(numSim):\n",
    "        for k in range(len(P)-1) :\n",
    "            g += line([(real(m[n+1,k]),imag(m[n+1,k])) , (real(m[n+1,k+1]),imag(m[n+1,k+1]))]) \n",
    "            g.set_aspect_ratio(1)\n",
    "    return g"
   ]
  },
  {
   "cell_type": "code",
   "execution_count": 59,
   "metadata": {},
   "outputs": [
    {
     "data": {
      "image/png": "[encoded data removed]",
      "text/plain": [
       "Graphics object consisting of 18 graphics primitives"
      ]
     },
     "execution_count": 59,
     "metadata": {},
     "output_type": "execute_result"
    }
   ],
   "source": [
    "#Exemple d'utilisation de la fonction \"sim\"\n",
    "P=[1,2,2+I,1]\n",
    "sim(P,I,0,5,0)"
   ]
  },
  {
   "cell_type": "code",
   "execution_count": 65,
   "metadata": {},
   "outputs": [
    {
     "data": {
      "image/png": "[encoded data removed]",
      "text/plain": [
       "Graphics object consisting of 18 graphics primitives"
      ]
     },
     "execution_count": 65,
     "metadata": {},
     "output_type": "execute_result"
    }
   ],
   "source": [
    "#a) ABC par f1\n",
    "P=[1/3,1/3,2+I,1]\n",
    "sim(P,I,0,5,0)"
   ]
  },
  {
   "cell_type": "code",
   "execution_count": 66,
   "metadata": {},
   "outputs": [
    {
     "data": {
      "image/png": "[encoded data removed]",
      "text/plain": [
       "Graphics object consisting of 18 graphics primitives"
      ]
     },
     "execution_count": 66,
     "metadata": {},
     "output_type": "execute_result"
    }
   ],
   "source": [
    "#a) ABC par f2\n",
    "P=[2*i,1-i,2+I,1]\n",
    "sim(P,I,0,5,0)"
   ]
  },
  {
   "cell_type": "code",
   "execution_count": 67,
   "metadata": {},
   "outputs": [
    {
     "data": {
      "image/png": "[encoded data removed]",
      "text/plain": [
       "Graphics object consisting of 18 graphics primitives"
      ]
     },
     "execution_count": 67,
     "metadata": {},
     "output_type": "execute_result"
    }
   ],
   "source": [
    "#a) ABC par f3\n",
    "P=[1/i,0,2+I,1]\n",
    "sim(P,I,0,5,0)"
   ]
  },
  {
   "cell_type": "code",
   "execution_count": 68,
   "metadata": {},
   "outputs": [
    {
     "data": {
      "image/png": "[encoded data removed]",
      "text/plain": [
       "Graphics object consisting of 18 graphics primitives"
      ]
     },
     "execution_count": 68,
     "metadata": {},
     "output_type": "execute_result"
    }
   ],
   "source": [
    "#b) Expérimenter sim sur un autre exemple\n",
    "P=[1+i,2,2+I,1]\n",
    "sim(P,I,0,5,0)"
   ]
  },
  {
   "cell_type": "markdown",
   "metadata": {},
   "source": [
    "# 3c) Repr&eacute;sentation des racines n-i&egrave;me de l'unité"
   ]
  },
  {
   "cell_type": "markdown",
   "metadata": {},
   "source": [
    "# Exercice 6"
   ]
  },
  {
   "cell_type": "markdown",
   "metadata": {
    "collapsed": true
   },
   "source": [
    "\n",
    "<p>Dessiner les polygones r&eacute;guliers de 4, 5 et 6 c&ocirc;t&eacute;s.</p><br>\n",
    "<i>Suggestions :</i><br>\n",
    "\n",
    "<li>Vous pouvez utiliser la fonction <span style=\"font-family: courier new,courier;\"><strong>sim</strong></span>.\n",
    "<li>Vous pouvez dessiner en plus le cercle trigonom&eacute;trique avec la fonction :<br>\n",
    "<span style=\"font-family: courier new,courier;\"><strong>parametric_plot( (cos(t), sin(t)), (t, 0, 2*pi) ) <br /></strong>\n",
    "<li><span style=\"font-family: arial,helvetica,sans-serif;\">On peut dessiner sur un seul graphe plusieurs fonctions avec le symbole + :</span><br>\n",
    "<span style=\"font-family: courier new,courier;\"><strong><strong><strong>parametric_plot( (2*cos(t), sin(t)), (t, 0, 2*pi) )&nbsp;</strong> + parametric_plot( (cos(t), sin(t)), (t, 0, 2*pi) ) </strong></strong></span>"
   ]
  },
  {
   "cell_type": "code",
   "execution_count": 2,
   "metadata": {},
   "outputs": [
    {
     "data": {
      "image/png": "[encoded data removed]",
      "text/plain": [
       "Graphics object consisting of 7 graphics primitives"
      ]
     },
     "execution_count": 2,
     "metadata": {},
     "output_type": "execute_result"
    }
   ],
   "source": [
    "#4 côtés\n",
    "t=var(\"t\")\n",
    "P=[0,1,1+I,1+I]\n",
    "sim(P,I,0,1,1)+parametric_plot( (cos(t), sin(t)), (t, 0, 2*pi) )\n"
   ]
  },
  {
   "cell_type": "code",
   "execution_count": 79,
   "metadata": {},
   "outputs": [
    {
     "data": {
      "image/png": "[encoded data removed]",
      "text/plain": [
       "Graphics object consisting of 21 graphics primitives"
      ]
     },
     "execution_count": 79,
     "metadata": {},
     "output_type": "execute_result"
    }
   ],
   "source": [
    "#5 côtés\n",
    "t=var(\"t\")\n",
    "P=[1,-I*cos(120),I,I*cos(120)]\n",
    "sim(P,I,10,6,1)"
   ]
  },
  {
   "cell_type": "code",
   "execution_count": 4,
   "metadata": {},
   "outputs": [
    {
     "data": {
      "image/png": "[encoded data removed]",
      "text/plain": [
       "Graphics object consisting of 10 graphics primitives"
      ]
     },
     "execution_count": 4,
     "metadata": {},
     "output_type": "execute_result"
    }
   ],
   "source": [
    "#6 côtés\n",
    "t=var(\"t\")\n",
    "P=[0,1,I,-I*cos(60)]\n",
    "sim(P,I,1/sqrt(2),2,1)+parametric_plot( (cos(t), sin(t)), (t, 0, 2*pi) )\n"
   ]
  },
  {
   "cell_type": "code",
   "execution_count": null,
   "metadata": {},
   "outputs": [],
   "source": []
  }
 ],
 "metadata": {
  "kernelspec": {
   "display_name": "SageMath 9.1",
   "language": "sage",
   "name": "sagemath"
  },
  "language_info": {
   "codemirror_mode": {
    "name": "ipython",
    "version": 3
   },
   "file_extension": ".py",
   "mimetype": "text/x-python",
   "name": "python",
   "nbconvert_exporter": "python",
   "pygments_lexer": "ipython3",
   "version": "3.7.3"
  }
 },
 "nbformat": 4,
 "nbformat_minor": 1
}
