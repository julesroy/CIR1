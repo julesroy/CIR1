{
 "cells": [
  {
   "cell_type": "markdown",
   "metadata": {},
   "source": [
    "# TP 5 - Intégration"
   ]
  },
  {
   "cell_type": "markdown",
   "metadata": {},
   "source": [
    "Consignes :\n",
    "\n",
    "- TP à faire par groupes de 2. Le groupe de travail sera le même pour toute l'année.\n",
    "- Renommer ce fichier <b>nom1-nom2-TP5</b> , en cliquant sur le titre du fichier \"TP5 - Intégration\" en haut à gauche\n",
    "- TP à rendre dans le devoir Teams à la <b>fin de la séance</b>.\n",
    "- <u>Votre rendu doit contenir des explications. Les notebook avec blocs de code sans aucun contexte seront penalisées.</u>\n",
    "\n",
    "\n",
    "  Cliquer deux fois sur la cellule pour completer ci-dessous :\n",
    "\n",
    "- NOM PRENOM : ROY Jules\n",
    "- NOM PRENOM : DUMAS Antonin\n"
   ]
  },
  {
   "cell_type": "markdown",
   "metadata": {},
   "source": [
    "# Intégrales"
   ]
  },
  {
   "cell_type": "markdown",
   "metadata": {},
   "source": [
    "Supposons que l'on souhaite calculer les primitives de :  $$ \\int \\frac{1}{2x+1} \\mathrm{ d}x  $$"
   ]
  },
  {
   "cell_type": "code",
   "execution_count": 1,
   "metadata": {},
   "outputs": [
    {
     "data": {
      "text/plain": [
       "1/2*log(2*x + 1)"
      ]
     },
     "execution_count": 1,
     "metadata": {},
     "output_type": "execute_result"
    }
   ],
   "source": [
    "x = var('x')\n",
    "f = 1/(2*x+1)\n",
    "integral(f,x)"
   ]
  },
  {
   "cell_type": "code",
   "execution_count": 4,
   "metadata": {},
   "outputs": [
    {
     "data": {
      "text/plain": [
       "1/2*log(2*x + 1)"
      ]
     },
     "execution_count": 4,
     "metadata": {},
     "output_type": "execute_result"
    }
   ],
   "source": [
    "integrate(f,x)"
   ]
  },
  {
   "cell_type": "markdown",
   "metadata": {},
   "source": [
    "Remarques : \n",
    "\n",
    "- La machine renvoie une primitive. Pour avoir l'ensemble des primitives, il faut bien entendu ajouter une constante. \n",
    "- La fonction log est la fonction logarithme népérien usuel, habituellement notée ln.\n",
    "- Sage omet les valeurs absolues, ce qui ne l'empêche pas de faire des calculs exacts même pour les valeurs négatives. (Il travaille avec le logarithme complexe)."
   ]
  },
  {
   "cell_type": "markdown",
   "metadata": {},
   "source": [
    "ou évaluer la même intégrale sur un intervalle donné $[0,1]$ :\n"
   ]
  },
  {
   "cell_type": "code",
   "execution_count": 2,
   "metadata": {},
   "outputs": [
    {
     "data": {
      "text/plain": [
       "1/2*log(3)"
      ]
     },
     "execution_count": 2,
     "metadata": {},
     "output_type": "execute_result"
    }
   ],
   "source": [
    "integral(f,x,0,1)"
   ]
  },
  {
   "cell_type": "markdown",
   "metadata": {},
   "source": [
    "ou avoir une approximation de l'intégrale :"
   ]
  },
  {
   "cell_type": "code",
   "execution_count": 3,
   "metadata": {},
   "outputs": [
    {
     "data": {
      "text/plain": [
       "0.549306144334055"
      ]
     },
     "execution_count": 3,
     "metadata": {},
     "output_type": "execute_result"
    }
   ],
   "source": [
    "N(integral(f,x,0,1)) #N() permet d'afficher une valeur approximative décimale de l'intégrale"
   ]
  },
  {
   "cell_type": "markdown",
   "metadata": {},
   "source": [
    "# EXERCICE 1"
   ]
  },
  {
   "cell_type": "markdown",
   "metadata": {},
   "source": [
    "Calculer les primitives suivantes :\n",
    "  \\begin{equation*}\n",
    "    a) \\quad \\int x \\cos x^2 \\text{ d} x \\quad\n",
    "    b) \\quad \\int 2 x^4 + \\frac{1}{x^2} + e^x +\\sin x \\text{ d} x \\quad\n",
    "    c) \\quad \\int \\dfrac{3x^4}{x^2-4} \\text{ d} x\n",
    "  \\end{equation*}"
   ]
  },
  {
   "cell_type": "code",
   "execution_count": 41,
   "metadata": {},
   "outputs": [
    {
     "name": "stdout",
     "output_type": "stream",
     "text": [
      "1/2*sin(x^2) +k\n"
     ]
    }
   ],
   "source": [
    "#a)\n",
    "x = var('x') # je definis x une variable\n",
    "f = x*cos(x^2) # je definis la fonction dans f \n",
    "integral(f,x)\n",
    "print(integrate(f,x),\"+k\") #Soit k une constante"
   ]
  },
  {
   "cell_type": "code",
   "execution_count": 42,
   "metadata": {},
   "outputs": [
    {
     "name": "stdout",
     "output_type": "stream",
     "text": [
      "2/5*x^5 - 1/x - cos(x) + e^x +k\n"
     ]
    }
   ],
   "source": [
    "#b)\n",
    "x = var('x')  # je definis x une variable\n",
    "f = 2*x^4+(1/x^2)+exp(x)+sin(x) # je definis la fonction dans f\n",
    "integral(f,x)\n",
    "print(integrate(f,x),\"+k\") #Soit k une constante "
   ]
  },
  {
   "cell_type": "code",
   "execution_count": 43,
   "metadata": {},
   "outputs": [
    {
     "name": "stdout",
     "output_type": "stream",
     "text": [
      "x^3 - 4*x +k\n"
     ]
    }
   ],
   "source": [
    "#c)\n",
    "x = var('x') # je definis x une variable\n",
    "f = (3*x^4)/x^2-4 # je definis la fonction dans f\n",
    "integral(f,x)\n",
    "print(integrate(f,x),\"+k\") #Soit k une constante "
   ]
  },
  {
   "cell_type": "markdown",
   "metadata": {},
   "source": [
    "# EXERCICE 2"
   ]
  },
  {
   "cell_type": "markdown",
   "metadata": {},
   "source": [
    "Calculer les intégrales et donner une approximation numérique :\n",
    "\n",
    "$$ a)  \\int_1^4 x^2+\\sqrt{x}+\\frac{1}{x}+\\sqrt[3]{x} \\text{ d} x  \\qquad b) \\ \\ \\int_0^{\\pi/2} \\cos x \\ (1+\\sin x)^4 \\text{ d}x \\quad c) \\ \\ \\int_0^{\\sqrt{3}}  \\frac{3 x^3-2 x^2 -5 x -6}{(x+1)^2(x^2+4)}   \\text{ d} x$$\n"
   ]
  },
  {
   "cell_type": "code",
   "execution_count": 47,
   "metadata": {},
   "outputs": [
    {
     "name": "stdout",
     "output_type": "stream",
     "text": [
      "Ce qui vaut :  31.0651641836912\n"
     ]
    }
   ],
   "source": [
    "#a)\n",
    "x = var('x') # je definis x une variable\n",
    "f = x^2+sqrt(x)+ (1/x) +x^(1/3) # je definis la fonction dans f\n",
    "res = N(integral(f,x,1,4))   # le programme calcul l'integrale de f aux bornes 1, 4\n",
    "print(\"Ce qui vaut : \", res)"
   ]
  },
  {
   "cell_type": "code",
   "execution_count": 48,
   "metadata": {},
   "outputs": [
    {
     "name": "stdout",
     "output_type": "stream",
     "text": [
      "Ce qui vaut :  6.20000000000000\n"
     ]
    }
   ],
   "source": [
    "#b)\n",
    "x = var('x') # je definis x une variable\n",
    "f = cos(x)*(1+sin(x))^4 # je definis la fonction dans f\n",
    "res = N(integral(f,x,0,pi/2))# le programme calcul l'integrale de f aux bornes 0,pi/2\n",
    "print(\"Ce qui vaut : \", res)"
   ]
  },
  {
   "cell_type": "code",
   "execution_count": 50,
   "metadata": {},
   "outputs": [
    {
     "name": "stdout",
     "output_type": "stream",
     "text": [
      "Ce qui vaut :  -1.13604906761104\n"
     ]
    }
   ],
   "source": [
    "#c)\n",
    "x = var('x') # je definis x une variable\n",
    "f = (3*x^3-2*x^2-5*x-6)/((x+1)^2 *(x^2+4)) # je definis la fonction dans f\n",
    "res = N(integral(f,x,0,sqrt(3))) # le programme calcul l'integrale de f aux bornes 0, racine de 3\n",
    "print(\"Ce qui vaut : \", res)"
   ]
  },
  {
   "cell_type": "markdown",
   "metadata": {},
   "source": [
    "# Rappels : boucles et fonctions"
   ]
  },
  {
   "cell_type": "markdown",
   "metadata": {},
   "source": [
    "La syntaxe de Sage est basée sur celle du langage Python.\n",
    "L'indentation du code joue un rôle important dans cette syntaxe : le nombre d'espaces au début de chaque ligne a une influence sur la manière dont le code sera interprété.\n",
    "\n",
    "Les boucles sont implémentées avec les constructuers `while`\n",
    "\n",
    "C’est par l’indentation que l’on délimite le bloc exécuté dans la boucle while."
   ]
  },
  {
   "cell_type": "code",
   "execution_count": 5,
   "metadata": {},
   "outputs": [
    {
     "data": {
      "text/plain": [
       "3"
      ]
     },
     "execution_count": 5,
     "metadata": {},
     "output_type": "execute_result"
    }
   ],
   "source": [
    "i=0\n",
    "while i<= 2:\n",
    "    i=i+1\n",
    "i\n"
   ]
  },
  {
   "cell_type": "markdown",
   "metadata": {},
   "source": [
    "et `for`\n",
    "\n",
    "Pour la boucle  `for`  on peut utiliser l'instruction  `range(n)`  qui renvoit la liste des  $n$  premiers entiers (indexé à partir de  0 ). On a donc  `range(n)=[0..n−1]`.\n"
   ]
  },
  {
   "cell_type": "code",
   "execution_count": 6,
   "metadata": {},
   "outputs": [
    {
     "data": {
      "text/html": [
       "<html><script type=\"math/tex; mode=display\">\\newcommand{\\Bold}[1]{\\mathbf{#1}}\\verb|range(0,|\\phantom{\\verb!x!}\\verb|3)|</script></html>"
      ],
      "text/plain": [
       "range(0, 3)"
      ]
     },
     "metadata": {},
     "output_type": "display_data"
    },
    {
     "name": "stdout",
     "output_type": "stream",
     "text": [
      "0\n",
      "1\n",
      "2\n"
     ]
    }
   ],
   "source": [
    "n = 3\n",
    "show(range(n))\n",
    "for i in range(n):\n",
    "    print(i)"
   ]
  },
  {
   "cell_type": "markdown",
   "metadata": {},
   "source": [
    "Pour l'instruction  `range`  on peut spécifier un autre indice de départ, un autre indice de fin ainsi que le pas. De même, pour l'instruction  .. ."
   ]
  },
  {
   "cell_type": "code",
   "execution_count": 1,
   "metadata": {},
   "outputs": [
    {
     "data": {
      "text/html": [
       "<html><script type=\"math/tex; mode=display\">\\newcommand{\\Bold}[1]{\\mathbf{#1}}\\verb|range(0,|\\phantom{\\verb!x!}\\verb|11,|\\phantom{\\verb!x!}\\verb|2)|</script></html>"
      ],
      "text/latex": [
       "\\begin{math}\n",
       "\\newcommand{\\Bold}[1]{\\mathbf{#1}}\\verb|range(0,|\\phantom{\\verb!x!}\\verb|11,|\\phantom{\\verb!x!}\\verb|2)|\n",
       "\\end{math}"
      ],
      "text/plain": [
       "range(0, 11, 2)"
      ]
     },
     "metadata": {},
     "output_type": "display_data"
    },
    {
     "data": {
      "text/html": [
       "<html><script type=\"math/tex; mode=display\">\\newcommand{\\Bold}[1]{\\mathbf{#1}}\\verb|range(5,|\\phantom{\\verb!x!}\\verb|1,|\\phantom{\\verb!x!}\\verb|-1)|</script></html>"
      ],
      "text/latex": [
       "\\begin{math}\n",
       "\\newcommand{\\Bold}[1]{\\mathbf{#1}}\\verb|range(5,|\\phantom{\\verb!x!}\\verb|1,|\\phantom{\\verb!x!}\\verb|-1)|\n",
       "\\end{math}"
      ],
      "text/plain": [
       "range(5, 1, -1)"
      ]
     },
     "metadata": {},
     "output_type": "display_data"
    },
    {
     "data": {
      "text/html": [
       "<html><script type=\"math/tex; mode=display\">\\newcommand{\\Bold}[1]{\\mathbf{#1}}\\left[0, 2, 4, 6, 8, 10\\right]</script></html>"
      ],
      "text/latex": [
       "\\begin{math}\n",
       "\\newcommand{\\Bold}[1]{\\mathbf{#1}}\\left[0, 2, 4, 6, 8, 10\\right]\n",
       "\\end{math}"
      ],
      "text/plain": [
       "[0, 2, 4, 6, 8, 10]"
      ]
     },
     "metadata": {},
     "output_type": "display_data"
    },
    {
     "data": {
      "text/html": [
       "<html><script type=\"math/tex; mode=display\">\\newcommand{\\Bold}[1]{\\mathbf{#1}}\\left[5, 4, 3, 2, 1\\right]</script></html>"
      ],
      "text/latex": [
       "\\begin{math}\n",
       "\\newcommand{\\Bold}[1]{\\mathbf{#1}}\\left[5, 4, 3, 2, 1\\right]\n",
       "\\end{math}"
      ],
      "text/plain": [
       "[5, 4, 3, 2, 1]"
      ]
     },
     "metadata": {},
     "output_type": "display_data"
    }
   ],
   "source": [
    "show(range(0,11,2))\n",
    "show(range(5,1,-1))\n",
    "show([0..11,step=2])\n",
    "show([5..1,step=-1])"
   ]
  },
  {
   "cell_type": "markdown",
   "metadata": {},
   "source": [
    "Cependant on peut faire parcourir à l'indice n'importe quelle liste donnée dans l'instruction (sans que cette liste soit spécifiquement à valeurs entières ni même tous du même type)."
   ]
  },
  {
   "cell_type": "code",
   "execution_count": 2,
   "metadata": {},
   "outputs": [
    {
     "name": "stdout",
     "output_type": "stream",
     "text": [
      "t\n",
      "e\n",
      "s\n",
      "t\n",
      "4\n"
     ]
    }
   ],
   "source": [
    "TableauTest = ['t','e','s','t', 2+2]\n",
    "for i in TableauTest:\n",
    "    print(i)"
   ]
  },
  {
   "cell_type": "markdown",
   "metadata": {},
   "source": [
    "L'utilisation de boucles  `for`  est très utile pour travailler avec les listes."
   ]
  },
  {
   "cell_type": "code",
   "execution_count": 4,
   "metadata": {},
   "outputs": [
    {
     "data": {
      "text/html": [
       "<html><script type=\"math/tex; mode=display\">\\newcommand{\\Bold}[1]{\\mathbf{#1}}\\left[0, 0, 0, 0, 0\\right]</script></html>"
      ],
      "text/latex": [
       "\\begin{math}\n",
       "\\newcommand{\\Bold}[1]{\\mathbf{#1}}\\left[0, 0, 0, 0, 0\\right]\n",
       "\\end{math}"
      ],
      "text/plain": [
       "[0, 0, 0, 0, 0]"
      ]
     },
     "metadata": {},
     "output_type": "display_data"
    },
    {
     "data": {
      "text/html": [
       "<html><script type=\"math/tex; mode=display\">\\newcommand{\\Bold}[1]{\\mathbf{#1}}\\verb|Liste|\\phantom{\\verb!x!}\\verb|complète| \\left[\\left(0, 1\\right), \\left(2, 3\\right), \\left(4, 5\\right), \\left(6, 7\\right)\\right]</script></html>"
      ],
      "text/latex": [
       "\\begin{math}\n",
       "\\newcommand{\\Bold}[1]{\\mathbf{#1}}\\verb|Liste|\\phantom{\\verb!x!}\\verb|complète| \\left[\\left(0, 1\\right), \\left(2, 3\\right), \\left(4, 5\\right), \\left(6, 7\\right)\\right]\n",
       "\\end{math}"
      ],
      "text/plain": [
       "'Liste complète ' [(0, 1), (2, 3), (4, 5), (6, 7)]"
      ]
     },
     "metadata": {},
     "output_type": "display_data"
    },
    {
     "data": {
      "text/html": [
       "<html><script type=\"math/tex; mode=display\">\\newcommand{\\Bold}[1]{\\mathbf{#1}}\\verb|Liste|\\phantom{\\verb!x!}\\verb|extraite| \\left[0, 2, 4, 6\\right]</script></html>"
      ],
      "text/latex": [
       "\\begin{math}\n",
       "\\newcommand{\\Bold}[1]{\\mathbf{#1}}\\verb|Liste|\\phantom{\\verb!x!}\\verb|extraite| \\left[0, 2, 4, 6\\right]\n",
       "\\end{math}"
      ],
      "text/plain": [
       "'Liste extraite ' [0, 2, 4, 6]"
      ]
     },
     "metadata": {},
     "output_type": "display_data"
    }
   ],
   "source": [
    "# Création d'une liste de 0 de taille 5\n",
    "L = [0 for j in range(5)]\n",
    "show(L)\n",
    "# Parcours d'une liste de couples et récupération de la liste des premières composantes de chaque couple\n",
    "L2 = [(0,1),(2,3),(4,5),(6,7)]\n",
    "show('Liste complète ' , L2)\n",
    "L2extrait = [l[0] for l in L2]\n",
    "show('Liste extraite ' , L2extrait)\n"
   ]
  },
  {
   "cell_type": "markdown",
   "metadata": {},
   "source": [
    "\n",
    "Pour définir la fonction $f(x)=0$ si $x<0$ et $f(x)=x^2$ si $x\\geq0$ , on peut faire par exemple :"
   ]
  },
  {
   "cell_type": "code",
   "execution_count": 8,
   "metadata": {},
   "outputs": [],
   "source": [
    "def f(x):\n",
    "    if x<0:\n",
    "        return 0\n",
    "    else:\n",
    "        return x^2"
   ]
  },
  {
   "cell_type": "code",
   "execution_count": 9,
   "metadata": {},
   "outputs": [
    {
     "data": {
      "text/plain": [
       "25"
      ]
     },
     "execution_count": 9,
     "metadata": {},
     "output_type": "execute_result"
    }
   ],
   "source": [
    "f(5)"
   ]
  },
  {
   "cell_type": "code",
   "execution_count": 10,
   "metadata": {},
   "outputs": [
    {
     "data": {
      "text/plain": [
       "0"
      ]
     },
     "execution_count": 10,
     "metadata": {},
     "output_type": "execute_result"
    }
   ],
   "source": [
    "f(-5)"
   ]
  },
  {
   "cell_type": "markdown",
   "metadata": {},
   "source": [
    "Une fonction est récursive si elle s’appelle elle-même."
   ]
  },
  {
   "cell_type": "code",
   "execution_count": 1,
   "metadata": {},
   "outputs": [],
   "source": [
    "def puissance(x,n) :\n",
    "    if n>0 :\n",
    "        return x * puissance(x, n-1)\n",
    "    else : return 1"
   ]
  },
  {
   "cell_type": "code",
   "execution_count": 14,
   "metadata": {},
   "outputs": [
    {
     "data": {
      "text/plain": [
       "32"
      ]
     },
     "execution_count": 14,
     "metadata": {},
     "output_type": "execute_result"
    }
   ],
   "source": [
    "puissance(2,5)"
   ]
  },
  {
   "cell_type": "markdown",
   "metadata": {},
   "source": [
    "# Intégration numérique"
   ]
  },
  {
   "cell_type": "markdown",
   "metadata": {},
   "source": [
    "Le but est d’aborder le calcul général de l’intégrale d’une fonction $f(x)$ sur un domaine\n",
    "fini délimité par des bornes finies $a$ et $b$  : $$ I = \\int_a^b f(x) \\mathrm{ d}x  $$\n",
    "\n",
    "Dans certains cas très limités, une telle intégrale peut être calculée analytiquement (à la main). Cependant,\n",
    "ce n’est que très rarement possible, et le plus souvent un des cas suivants se présente :\n",
    "    \n",
    " – Le calcul analytique est long, compliqué et rébarbatif.\n",
    "    \n",
    " – Le résultat de l’intégrale est une fonction compliquée qui fait appel à d’autres fonctions elles-même\n",
    "longues à évaluer.\n",
    "\n",
    " – Cette intégrale n’a pas d’expression analytique (par exemple la fonction erreur : $Erf(x) = \\frac{2}{ \\pi} \\int_0^x e^{-x^{'2}} \\mathrm{ d}x'$.\n",
    " \n",
    "Dans tous ces cas, on préfèrera calculer numériquement la valeur de l’intégrale $I$.\n",
    "\n",
    "L’idée principale est de trouver des méthodes qui permettent de calculer rapidement une valeur approchée\n",
    "eI de l’intégrale à calculer : $$\\tilde{I} \\approx I$$\n",
    "\n",
    "Une méthode bien connue consiste par exemple à diviser l’aire\n",
    "sous la courbe en un grand nombre de petits rectangles d’aire $\\tilde{I_k}$ et de les sommer. \n",
    "\n",
    "Le résultat $$\\tilde{I}=\\sum_k \\tilde{I_k} $$ est alors une approximation de l’intégrale $I$. Cette approximation est d’autant meilleure que la largeur $h$ des\n",
    "rectangles tend vers 0, c’est à dire : $\\lim_{h \\rightarrow 0}  \\tilde{I_k} = I$.\n",
    "\n",
    "Pour toutes les méthodes que l'on considère, l’intégrale numérique est calculée à\n",
    "partir de l’évaluation de la fonction $f(x)$ en un nombre de point $n+1$ distincts : $f_k = f(x_k)$, $k\\in [0, n]$."
   ]
  },
  {
   "cell_type": "markdown",
   "metadata": {},
   "source": [
    "# Méthodes de quadrature numérique simples:"
   ]
  },
  {
   "cell_type": "markdown",
   "metadata": {},
   "source": [
    "- Rectangle : $\\tilde{I} = (b-a)f(a) \\quad $ ou Point au milieu : $\\tilde{I} = (b-a)f\\bigg(\\dfrac{a+b}{2}\\bigg)$ \n",
    "- Trapèze : $\\tilde{I} = (b-a)\\dfrac{f(a)+f(b)}{2}$\n",
    "- Simpson : $\\tilde{I} = \\dfrac{b-a}{6}[f(a)+4f\\bigg(\\dfrac{a+b}{2}\\bigg)+f(b)]$\n"
   ]
  },
  {
   "cell_type": "markdown",
   "metadata": {},
   "source": [
    "# Méthodes de quadrature numérique composites "
   ]
  },
  {
   "cell_type": "markdown",
   "metadata": {},
   "source": [
    "L’idée est donc de découper le domaine total d’intégration $[a, b]$ en $m$ intervalles. On approxime alors\n",
    "l’aire $\\tilde{I}$, $k \\in [0,m−1]$ de chaque intervalle par des méthodes de quadrature numérique simples, et on en déduit une approximation de l’aire totale par une simple somme :\n",
    "\n",
    "$$\\tilde{I}=\\sum_k^{m-1} \\tilde{I_k} $$\n",
    "\n",
    "Lorsque $m$ est suffisamment grand, la largeur $(b − a)/m$ des intervalles devient aussi petite que l’on veut.\n",
    "\n",
    "On considère le nombre total de sous-intervalles $n = m$.\n",
    "\n",
    "- Rectangles : $$\\tilde{I} = \\dfrac{b-a}{n} \\sum_{i=0}^{n-1}f(x_i)$$\n",
    "\n",
    "- Trapèzes : $$\\tilde{I} = \\dfrac{b-a}{n}\\bigg(\\dfrac{f(a)+f(b)}{2} + \\sum_{i=1}^{n-1}f(x_i)\\bigg)$$\n",
    "\n",
    "- Simpson : $$\\tilde{I} = \\dfrac{b-a}{6n}\\bigg(f(a)+2\\sum_{i=1}^{n-1}f(x_{i})+4\\sum_{i=0}^{n-1}f(m_{i})+f(b)\\bigg)$$\n",
    "avec $m_i = a + (i + \\frac 1 2) h$ les milieux des segments $[x_i, x_{i+1}]$.\n",
    "\n",
    "\n"
   ]
  },
  {
   "cell_type": "markdown",
   "metadata": {},
   "source": [
    "# EXERCICE 3"
   ]
  },
  {
   "cell_type": "markdown",
   "metadata": {},
   "source": [
    "a) Définir une fonction `rectangles(f,a,b,n)` qui prend en entrée la fonction, les bornes de l'intégrale et le nombre de subdivisions. Elle renvoie en sortie la valeur approchée de l'intégrale selon la méthode des rectangles du point au milieu.\n",
    "\n",
    "b) Tester votre fonction sur le calcul d'une intégrale au choix et vérifier que ce résultat s'approche de la valeur exacte."
   ]
  },
  {
   "cell_type": "code",
   "execution_count": 1,
   "metadata": {},
   "outputs": [],
   "source": [
    "def rectangles(f,a,b,n):\n",
    "    somme = 0 #on définit la variable qui servira pour la somme\n",
    "    for i in range(n):\n",
    "        xi = (((a + (i-1)*((b-a)/n)))+((a + (i)*((b-a)/n))))/2 #ici on définit xi, en utilisant le point du milieu (d'où la division par 2)\n",
    "        somme += f.subs(x=xi) #calcul de la somme, subs permet de simuler f(xi)\n",
    "    return ((b-a)/n)*somme.n() #on renvoit le résultat, .n() permet d'obtenir une valeur approximative décimale du résultat"
   ]
  },
  {
   "cell_type": "code",
   "execution_count": 2,
   "metadata": {},
   "outputs": [
    {
     "data": {
      "text/plain": [
       "31.0176787423820"
      ]
     },
     "execution_count": 2,
     "metadata": {},
     "output_type": "execute_result"
    }
   ],
   "source": [
    "rectangles(x**2+sqrt(x)+ (1/x) +x^(1/3),1,4,1000) #on appelle la fonction avec l'intégrale de l'exercice 1.a, on sait que l'on doit obtenir une valeur proche de 31"
   ]
  },
  {
   "cell_type": "markdown",
   "metadata": {},
   "source": [
    "# EXERCICE 4"
   ]
  },
  {
   "cell_type": "markdown",
   "metadata": {},
   "source": [
    "a) Définir une fonction `trapezes(f,a,b,n)` qui prend en entrée la fonction, les bornes de l'intégrale et le nombre de subdivisions. Elle renvoie en sortie la valeur approchée de l'intégrale selon la méthode des trapèzes.\n",
    "\n",
    "b) Tester votre fonction sur le calcul d'une intégrale au choix et vérifier que ce résultat s'approche de sa valeur exacte.\n"
   ]
  },
  {
   "cell_type": "code",
   "execution_count": 51,
   "metadata": {},
   "outputs": [],
   "source": [
    "def trapezes(f,a,b,n):\n",
    "    somme = 0 #on définit la variable qui servira pour la somme\n",
    "    for i in range(1,n):\n",
    "        xi = (((a + (i-1)*((b-a)/n)))+((a + (i)*((b-a)/n))))/2 #ici on définit xi, en utilisant le point du milieu (d'où la division par 2)\n",
    "        somme += f.subs(x=xi) #calcul de la somme, subs permet de simuler f(xi)\n",
    "    return ((b-a)/n)*(((f.subs(x=a) + f.subs(x=b))/2)+somme).n() #on renvoit le résultat, .n() permet d'obtenir une valeur approximative décimale du résultat"
   ]
  },
  {
   "cell_type": "code",
   "execution_count": 52,
   "metadata": {},
   "outputs": [
    {
     "data": {
      "text/plain": [
       "31.0414430820448"
      ]
     },
     "execution_count": 52,
     "metadata": {},
     "output_type": "execute_result"
    }
   ],
   "source": [
    "trapezes((x**2)+sqrt(x)+(1/x)+(x^(1/3)),1,4,1000) #on appelle la fonction avec l'intégrale de l'exercice 1.a, on sait que l'on doit obtenir une valeur proche de 31"
   ]
  },
  {
   "cell_type": "markdown",
   "metadata": {},
   "source": [
    "# EXERCICE 5"
   ]
  },
  {
   "cell_type": "markdown",
   "metadata": {},
   "source": [
    "Une valeur approchée de  $\\pi$  peut être obtenue en calculant numériquement l’intégrale de la fonction  $\\dfrac{6}{5(1+x^2)}$ sur l'intervalle $[-2-\\sqrt{3},2+\\sqrt{3}]$.\n",
    "\n",
    "a) Calculer l'intégrale exacte avec la commande de Sage pour se convaincre du résultat et dessiner la fonction.\n",
    "\n",
    "b) Calculer de manière numérique la valeur approchée en utilisant les deux méthodes définies aux exercices 3 et 4."
   ]
  },
  {
   "cell_type": "code",
   "execution_count": 3,
   "metadata": {},
   "outputs": [
    {
     "name": "stdout",
     "output_type": "stream",
     "text": [
      "Ce qui vaut: 3.14159265358979\n"
     ]
    },
    {
     "data": {
      "image/png": "[encoded data removed]",
      "text/plain": [
       "Graphics object consisting of 1 graphics primitive"
      ]
     },
     "execution_count": 3,
     "metadata": {},
     "output_type": "execute_result"
    }
   ],
   "source": [
    "#a)\n",
    "x = var('x')\n",
    "f = 6/(5*(1+x^2)) # je definis la fonction dans f\n",
    "g=N(integral(f,x,-2-sqrt(3),2+sqrt(3))) # jassigne a g l'integrale de la fonction,le programme calcul l'integrale de f aux bornes -2-racine de 3,2+racine de 3\n",
    "print(\"Ce qui vaut:\",g) #j'affiche l'integrale de la fonction\n",
    "plot(g) #la courbe est constante est vaut la valeur pi "
   ]
  },
  {
   "cell_type": "code",
   "execution_count": 62,
   "metadata": {},
   "outputs": [
    {
     "data": {
      "text/plain": [
       "3.14159060095802"
      ]
     },
     "execution_count": 62,
     "metadata": {},
     "output_type": "execute_result"
    }
   ],
   "source": [
    "#b)\n",
    "#Méthode rectangles\n",
    "rectangles(6/(5*(1+x^2)),-2-sqrt(3),2+sqrt(3),1000).n() #pour tester le résultat avec la méthode des rectangles, on appelle la fonction définie dans l'exo 3 avec les valeurs de l'énoncé ci-dessus\n",
    "#résultat: on obtient une valeur très proche de pi"
   ]
  },
  {
   "cell_type": "code",
   "execution_count": 61,
   "metadata": {},
   "outputs": [
    {
     "data": {
      "text/plain": [
       "3.14159171904565"
      ]
     },
     "execution_count": 61,
     "metadata": {},
     "output_type": "execute_result"
    }
   ],
   "source": [
    "#b)\n",
    "#Méthode trapèzes\n",
    "trapezes(6/(5*(1+x^2)),-2-sqrt(3),2+sqrt(3),1000).n() #pour tester le résultat avec la méthode des rectangles, on appelle la fonction définie dans l'exo 3 avec les valeurs de l'énoncé ci-dessus\n",
    "#résultat: on obtient une valeur très proche de pi"
   ]
  },
  {
   "cell_type": "markdown",
   "metadata": {},
   "source": [
    "# Performances"
   ]
  },
  {
   "cell_type": "markdown",
   "metadata": {},
   "source": [
    "La performance d’une méthode se juge en comparant :\n",
    "\n",
    "- Précision du résultat : Celle-ci se caractérise en estimant l’erreur $\\varepsilon$ entre l’approximation et la valeur réelle de l’intégrale :\n",
    "\n",
    "$$\\varepsilon = I - \\tilde{I}$$ \n",
    "  La valeur de l’erreur ne peut pas être calculée exactement puisqu’en général, on ne connaît pas l’intégrale $I$ que l’on cherche à calculer. Cependant, une majoration peut souvent être estimée en étudiant le développement en série de Taylor de la fonction $f(x)$ (prochain chapitre du cours).\n",
    "\n",
    "\n",
    "- Rapidité d’exécution nécessaire pour atteindre ce résultat. \n",
    "\n",
    "   De manière générale, toutes les méthodes peuvent atteindre de très grandes précisions. Cependant, le temps de calcul augmente avec la précision.\n",
    "Ce temps n’augmente pas de la même manière pour toutes les méthodes si bien que certaines\n",
    "s’avèrent plus efficaces que d’autres. En particulier, le temps de calcul des méthodes de quadrature est\n",
    "proportionnel au nombre de points où la fonction $f(x)$ est évaluée.\n",
    "\n"
   ]
  }
 ],
 "metadata": {
  "kernelspec": {
   "display_name": "SageMath 9.1",
   "language": "sage",
   "name": "sagemath"
  },
  "language_info": {
   "codemirror_mode": {
    "name": "ipython",
    "version": 3
   },
   "file_extension": ".py",
   "mimetype": "text/x-python",
   "name": "python",
   "nbconvert_exporter": "python",
   "pygments_lexer": "ipython3",
   "version": "3.7.3"
  }
 },
 "nbformat": 4,
 "nbformat_minor": 1
}
