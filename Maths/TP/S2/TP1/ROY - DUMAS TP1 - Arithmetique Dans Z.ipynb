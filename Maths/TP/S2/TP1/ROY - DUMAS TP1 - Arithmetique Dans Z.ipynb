{
 "cells": [
  {
   "cell_type": "markdown",
   "metadata": {},
   "source": [
    "# TP 1 - Arithmétique dans Z"
   ]
  },
  {
   "cell_type": "markdown",
   "metadata": {},
   "source": [
    "Consignes :\n",
    "\n",
    "- TP à faire par groupes de 2. Le groupe de travail sera le même pour toute l'année.\n",
    "- Renommer ce fichier <b>nom1-nom2-TP1</b> , en cliquant sur le titre du fichier \"TP 1 - Arithmétique dans Z\" en haut à gauche\n",
    "- TP à rendre dans le devoir Teams à la <b>fin de la séance</b>. \n",
    "- <u>Votre rendu doit contenir des explications. Les notebook avec blocs de code sans aucun contexte seront penalisées.</u>\n",
    "\n",
    "\n",
    "  Cliquer deux fois sur la cellule pour completer ci-dessous :\n",
    "\n",
    "- NOM PRENOM : ROY Jules\n",
    "- NOM PRENOM : DUMAS Antonin"
   ]
  },
  {
   "cell_type": "markdown",
   "metadata": {},
   "source": [
    "#  Division euclidienne et reste"
   ]
  },
  {
   "cell_type": "markdown",
   "metadata": {},
   "source": [
    "Comme vous avez vu en cours, la division euclidienne de $a$ par $b$, avec $a\\in\\mathbb{Z}$ et $b\\in\\mathbb{N}^*$ s'écrit :\n",
    "\n",
    "$$a=bq+r \\qquad 0\\leq r< b$$\n",
    "\n",
    "où $q\\in \\mathbb{Z}$ est le $quotient$ et $r\\in \\mathbb{N}$ est le $reste$."
   ]
  },
  {
   "cell_type": "markdown",
   "metadata": {},
   "source": [
    "En Python le quotient se calcul par `a // b` \n",
    "\n"
   ]
  },
  {
   "cell_type": "code",
   "execution_count": 1,
   "metadata": {},
   "outputs": [
    {
     "data": {
      "text/plain": [
       "4"
      ]
     },
     "execution_count": 1,
     "metadata": {},
     "output_type": "execute_result"
    }
   ],
   "source": [
    "14//3"
   ]
  },
  {
   "cell_type": "markdown",
   "metadata": {},
   "source": [
    "Le reste se calcule par `a%b`"
   ]
  },
  {
   "cell_type": "code",
   "execution_count": 2,
   "metadata": {},
   "outputs": [
    {
     "data": {
      "text/plain": [
       "2"
      ]
     },
     "execution_count": 2,
     "metadata": {},
     "output_type": "execute_result"
    }
   ],
   "source": [
    "14%3 # 14 modulo 3"
   ]
  },
  {
   "cell_type": "markdown",
   "metadata": {},
   "source": [
    "On a bien $14 = 3 \\times 4 +2$"
   ]
  },
  {
   "cell_type": "markdown",
   "metadata": {},
   "source": [
    "# EXERCICE 1"
   ]
  },
  {
   "cell_type": "markdown",
   "metadata": {},
   "source": [
    "Combien y-a-t-il d'occurences du chiffre 1 dans les nombres de 1 à 999 ?\n",
    "\n",
    "Par exemple le chiffre 1 apparaît une fois dans 51 mais deux fois dans 131.\n",
    "\n",
    "Pour vous aider, repondez d'abord aux questions suivantes :"
   ]
  },
  {
   "cell_type": "markdown",
   "metadata": {},
   "source": [
    "a) Comment obtient-on le chiffre des unités d’un entier $N$ ? Quelle instruction il faut utiliser ?"
   ]
  },
  {
   "cell_type": "code",
   "execution_count": 32,
   "metadata": {},
   "outputs": [
    {
     "name": "stdout",
     "output_type": "stream",
     "text": [
      "Le chiffre des unités de l'entier 131 vaut 1\n"
     ]
    }
   ],
   "source": [
    "#Pour obtenir le chiffre des unités d'un entier N il faut utiliser le modulo 10 \n",
    "N=131\n",
    "val=N%10 \n",
    "print(\"Le chiffre des unités de l'entier\",N,\"vaut\",val)"
   ]
  },
  {
   "cell_type": "markdown",
   "metadata": {},
   "source": [
    "b) Comment obtient-on le chiffre des dizaines ?"
   ]
  },
  {
   "cell_type": "code",
   "execution_count": 33,
   "metadata": {},
   "outputs": [
    {
     "name": "stdout",
     "output_type": "stream",
     "text": [
      "2\n",
      "Le chiffre des dizaines de l'entier 123 vaut 2\n"
     ]
    }
   ],
   "source": [
    "#Pour obtenir le chiffre des dizaines d'un entier N il faut utiliser le quotient de l'equation euclidienne\n",
    "N=123\n",
    "val=10\n",
    "while(val>9): #si N>99 je dois utiliser une division pour 10 et le modulo comme dans le a)\n",
    "    val=N//10\n",
    "    if(100>val>10):\n",
    "        val=val%10 \n",
    "        print(val)\n",
    "print(\"Le chiffre des dizaines de l'entier\",N,\"vaut\",val)"
   ]
  },
  {
   "cell_type": "markdown",
   "metadata": {},
   "source": [
    "c) Comment obtient-on le chiffre des centaines ?"
   ]
  },
  {
   "cell_type": "code",
   "execution_count": 34,
   "metadata": {},
   "outputs": [
    {
     "name": "stdout",
     "output_type": "stream",
     "text": [
      "Le chiffre des centaines de l'entier 135 vaut 1\n"
     ]
    }
   ],
   "source": [
    "#Pour obtenir le chiffre des centaines d'un entier N il faut utiliser le quotient de l'equation euclidienne\n",
    "N=135\n",
    "val=N//100 \n",
    "print(\"Le chiffre des centaines de l'entier\",N,\"vaut\",val)"
   ]
  },
  {
   "cell_type": "markdown",
   "metadata": {},
   "source": [
    "Vous pouvez maintenant répondre à la question de l'exercice 1."
   ]
  },
  {
   "cell_type": "code",
   "execution_count": 35,
   "metadata": {},
   "outputs": [
    {
     "name": "stdout",
     "output_type": "stream",
     "text": [
      "Combien y-a-t-il d'occurences du chiffre 1 dans les nombres de 1 à 999 ?\n",
      "Il y a 300 1 dans les nombres de 1 à 999\n"
     ]
    }
   ],
   "source": [
    "E=999 # je definis E la valeur maximale de l'ensemble \n",
    "compteur=0 # je definis un compteur\n",
    "val_test=0 # je definis une valeur pour les unités\n",
    "val_testd=0 # je definis une valeur pour les dizaines\n",
    "val_testc=0 # je definis une valeur pour les centaines\n",
    "for i in range(0,E+1):\n",
    "    if(i<10): #je teste les valeurs inferieurs a 10 \n",
    "        val_test=i%10\n",
    "        if(val_test==1):\n",
    "            compteur+=1\n",
    "    if(10<i<100):#je teste les valeurs inferieurs a 100 et superieur a 10\n",
    "        val_test=i%10 # je transforme l'entier en 2 valeurs; son unité et sa dizaine\n",
    "        val_testd=i//10\n",
    "        if(val_test==1):\n",
    "            compteur+=1\n",
    "        elif(val_testd==1):\n",
    "            compteur+=1\n",
    "    else: #je teste les valeurs superieurs a 100\n",
    "        val_test=i%10 #je transforme l'entier en 3 valeurs; son unité, sa dizaine et sa centaine\n",
    "        val_testd=i//10\n",
    "        if(val_testd>10):\n",
    "            val_testd=val_testd%10 #je verifie que la valeur de la dizaine est un chiffre sinon je recupere son unité\n",
    "        val_testc=i//100\n",
    "        if(val_test==1):\n",
    "            compteur+=1\n",
    "        if(val_testd==1):\n",
    "            compteur+=1\n",
    "        if(val_testc==1): # a chaque fois qu'une variable contient un 1 j'ajoute 1 au compteur\n",
    "            compteur+=1\n",
    "            \n",
    "print(\"Combien y-a-t-il d'occurences du chiffre 1 dans les nombres de 1 à 999 ?\")\n",
    "print(\"Il y a\",compteur,\"1 dans les nombres de 1 à 999\") #j'affiche le compteur"
   ]
  },
  {
   "cell_type": "markdown",
   "metadata": {},
   "source": [
    "# Ecriture des nombres en base 10"
   ]
  },
  {
   "cell_type": "markdown",
   "metadata": {},
   "source": [
    "On rappelle que l'écriture décimale d'un nombre, c'est associer à un entier $N$ la suite de ses chiffres $[a_0,a_1,\\ldots,a_n]$ de sorte que $a_i$ soit le $i-ème$ chiffre de $N$. c'est-à-dire\n",
    "\n",
    "$$N=a_n10^n+a_{n-1}10^{n-1}+\\ldots +a_210^2+a_1 10 +a_0 \\qquad a_i\\in \\{0,1,\\ldots,9\\}$$\n",
    "\n",
    "$a_0$ est le chiffre des unités, $a_1$ celui des dizaines, $a_2$ celui des centaines, $\\ldots$"
   ]
  },
  {
   "cell_type": "markdown",
   "metadata": {},
   "source": [
    "# Rappel : listes (ou tableaux) en Python \n",
    "\n"
   ]
  },
  {
   "cell_type": "markdown",
   "metadata": {},
   "source": [
    "Une liste est présentée entre des crochets "
   ]
  },
  {
   "cell_type": "code",
   "execution_count": null,
   "metadata": {},
   "outputs": [],
   "source": [
    "tab = [4,3,2,1]"
   ]
  },
  {
   "cell_type": "markdown",
   "metadata": {},
   "source": [
    "On accède aux valeurs par "
   ]
  },
  {
   "cell_type": "code",
   "execution_count": null,
   "metadata": {},
   "outputs": [],
   "source": [
    "tab[0] "
   ]
  },
  {
   "cell_type": "code",
   "execution_count": null,
   "metadata": {},
   "outputs": [],
   "source": [
    "tab[3]"
   ]
  },
  {
   "cell_type": "code",
   "execution_count": null,
   "metadata": {},
   "outputs": [],
   "source": [
    "La longueur du tableau s’obtient par"
   ]
  },
  {
   "cell_type": "code",
   "execution_count": null,
   "metadata": {
    "scrolled": true
   },
   "outputs": [],
   "source": [
    "len(tab)"
   ]
  },
  {
   "cell_type": "code",
   "execution_count": null,
   "metadata": {},
   "outputs": [],
   "source": [
    "Pour parcourir toutes les valeurs d’un tableau on peut donc aussi écrire"
   ]
  },
  {
   "cell_type": "code",
   "execution_count": null,
   "metadata": {},
   "outputs": [],
   "source": [
    "for i in range(len(tab)):\n",
    "    print(tab[i])"
   ]
  },
  {
   "cell_type": "markdown",
   "metadata": {},
   "source": [
    "La liste vide est seulement notée avec deux crochets"
   ]
  },
  {
   "cell_type": "code",
   "execution_count": null,
   "metadata": {},
   "outputs": [],
   "source": [
    "tab=[] # liste vide"
   ]
  },
  {
   "cell_type": "markdown",
   "metadata": {},
   "source": [
    "Pour ajouter un élément à une liste tab existante on utilise la fonction `append`"
   ]
  },
  {
   "cell_type": "code",
   "execution_count": null,
   "metadata": {},
   "outputs": [],
   "source": [
    "tab.append(4) #on ajoute 4 à la fin de la liste"
   ]
  },
  {
   "cell_type": "code",
   "execution_count": null,
   "metadata": {},
   "outputs": [],
   "source": [
    "tab.append(3) #on ajoute 4 "
   ]
  },
  {
   "cell_type": "code",
   "execution_count": null,
   "metadata": {},
   "outputs": [],
   "source": [
    "tab # liste a deux éléments"
   ]
  },
  {
   "cell_type": "markdown",
   "metadata": {},
   "source": [
    "ou"
   ]
  },
  {
   "cell_type": "code",
   "execution_count": null,
   "metadata": {},
   "outputs": [],
   "source": [
    "tab = tab + [10]"
   ]
  },
  {
   "cell_type": "code",
   "execution_count": null,
   "metadata": {},
   "outputs": [],
   "source": [
    "tab"
   ]
  },
  {
   "cell_type": "markdown",
   "metadata": {},
   "source": [
    "# EXERCICE 2"
   ]
  },
  {
   "cell_type": "markdown",
   "metadata": {},
   "source": [
    "a) Écrire une fonction qui à partir d’une liste $[a_0,a_1,\\ldots,a_n]$ calcule l’entier $N$ correspondant.\n",
    "\n",
    "Par exemple $[4,3,2,1]$ doit renvoyer $1234$"
   ]
  },
  {
   "cell_type": "code",
   "execution_count": 36,
   "metadata": {},
   "outputs": [
    {
     "name": "stdout",
     "output_type": "stream",
     "text": [
      "1234"
     ]
    }
   ],
   "source": [
    "tab=[4,3,2,1]\n",
    "for i in range(len(tab)-1,-1,-1):\n",
    "    print(tab[i], end='') #end='' est une fonction qui permet de rester sur la meme ligne"
   ]
  },
  {
   "cell_type": "markdown",
   "metadata": {},
   "source": [
    "b) Écrire une fonction qui à partir de $N$ calcule son écriture décimale $[a_0,a_1,\\ldots,a_n]$.\n",
    "\n",
    "Par exemple $1234$ doit renvoyer $[4,3,2,1]$"
   ]
  },
  {
   "cell_type": "code",
   "execution_count": 37,
   "metadata": {},
   "outputs": [
    {
     "data": {
      "text/plain": [
       "[4, 3, 2, 1]"
      ]
     },
     "execution_count": 37,
     "metadata": {},
     "output_type": "execute_result"
    }
   ],
   "source": [
    "val=1234 #je définis la valeur val a 1234\n",
    "tab=[] # j'initialise une liste vide tab\n",
    "n=4 \n",
    "for i in range(0,n): # je fais une boucle qui va de 0 à 4\n",
    "    var=val%10\n",
    "    tab.append(var) # j'ajoute la valeur var dans la liste tab avec la fonction append()\n",
    "    val=val//10  # je me decale d'un rang vers la gauche\n",
    "\n",
    "tab # j'affiche la liste tab"
   ]
  },
  {
   "cell_type": "markdown",
   "metadata": {},
   "source": [
    "chiffres_vers_entier([4,3,2,1])"
   ]
  },
  {
   "cell_type": "markdown",
   "metadata": {},
   "source": [
    "# L'algorithme d'Euclide"
   ]
  },
  {
   "cell_type": "markdown",
   "metadata": {},
   "source": [
    "L'algorithme d'Euclide est basé sur le principe suivant \n",
    "$$\\text{si } \\ b|a \\text{ alors } pgcd(a,b)=b \\ \\text{ sinon } \\ pgcd(a,b)=pgcd(b, r)$$\n",
    "\n",
    "avec $r$ le reste de la division euclidienne de $a$ par $b$."
   ]
  },
  {
   "cell_type": "markdown",
   "metadata": {},
   "source": [
    "# EXERCICE 3"
   ]
  },
  {
   "cell_type": "markdown",
   "metadata": {},
   "source": [
    "a) Créer une fonction récursive qui calcule le $pgcd$ de $a,b$"
   ]
  },
  {
   "cell_type": "code",
   "execution_count": 4,
   "metadata": {},
   "outputs": [
    {
     "name": "stdout",
     "output_type": "stream",
     "text": [
      "7\n",
      "8\n"
     ]
    }
   ],
   "source": [
    "def pgcd(a, b):\n",
    "    if b == 0: #condition d'arrêt, si b vaut 0, on retourne a\n",
    "        return a\n",
    "    else:\n",
    "        r = a % b # r équivaut au reste de la division de a par b\n",
    "        return pgcd(b, r) #appel récursif avec b et r (algorithme d'Euclide)\n",
    "\n",
    "#on teste avec (350, 259) et (16, 24)\n",
    "print(pgcd(350, 259))\n",
    "print(pgcd(16, 24))"
   ]
  },
  {
   "cell_type": "markdown",
   "metadata": {},
   "source": [
    "En Python, nous puvons utiliser `gcd` pour calculer le pgcd de deux nombre. \n",
    "\n",
    "b) Vérifier le bon résultat de votre fonction avec cette commande."
   ]
  },
  {
   "cell_type": "code",
   "execution_count": 8,
   "metadata": {},
   "outputs": [
    {
     "name": "stdout",
     "output_type": "stream",
     "text": [
      "7\n",
      "8\n"
     ]
    }
   ],
   "source": [
    "print(gcd(350,259))\n",
    "print(gcd(16, 24))\n",
    "#les résultats entre notre fonction pgdc() et la fonction gdc() de sagemath correspondent"
   ]
  },
  {
   "cell_type": "markdown",
   "metadata": {},
   "source": [
    "#  Nombres amiables"
   ]
  },
  {
   "cell_type": "markdown",
   "metadata": {},
   "source": [
    "Pythagore aurait défini l’amitié (de deux entiers) ainsi :\n",
    "\n",
    "            Deux nombres sont amiables ou amicaux si ils sont distinct et si chacun des deux nombres est égal à la somme des  diviseurs strict (ses diviseurs sauf lui-même) de l’autre.\n",
    "\n",
    "\n",
    "Par exemple : 220 et 284 sont amiables car \n",
    "\n",
    "- $220 + 284 = 504$\n",
    "\n",
    "- somme des diviseurs stricts de $220 = 1+ 2+ 4+ 5+ 10+ 11 +20 +22 +44 +55 +110 = 284$\n",
    "\n",
    "- somme des diviseurs stricts de $284 = 1+ 2+ 4+ 71+142 = 220$\n",
    "    "
   ]
  },
  {
   "cell_type": "markdown",
   "metadata": {},
   "source": [
    "# EXERCICE 4"
   ]
  },
  {
   "cell_type": "markdown",
   "metadata": {},
   "source": [
    "a) Ecrire une fonction `sommediv(N)` qui calcule la somme des diviseurs strict d'un nombre $N$."
   ]
  },
  {
   "cell_type": "code",
   "execution_count": 2,
   "metadata": {},
   "outputs": [
    {
     "name": "stdout",
     "output_type": "stream",
     "text": [
      "La somme des diviseurs stricts est égale à: 284\n",
      "La somme des diviseurs stricts est égale à: 220\n"
     ]
    }
   ],
   "source": [
    "def sommediv(N):\n",
    "    somme = 0 #on cree une variable qui stockera la somme des diviseurs stricts\n",
    "    for i in range(1, N): #on part de 1 jusqu'à N, car on ne peut pas diviser par 0\n",
    "        if N % i == 0: #si module de N par i vaut 0 (c'est à dire pas de reste), i est donc un diviseur strict de N\n",
    "            somme += i #on ajoute alors i à la somme des diviseurs stricts\n",
    "    return somme #on retourne la somme\n",
    "\n",
    "#on teste pour 220 et 284 (valeurs de l'énoncé)\n",
    "print(\"La somme des diviseurs stricts est égale à:\", sommediv(220))\n",
    "print(\"La somme des diviseurs stricts est égale à:\", sommediv(284))"
   ]
  },
  {
   "cell_type": "markdown",
   "metadata": {},
   "source": [
    "b) Ecrire une fonction `amiable(N)` qui affiche la liste des paires de nombres amiables qui sont inférieurs à $N$."
   ]
  },
  {
   "cell_type": "code",
   "execution_count": 5,
   "metadata": {},
   "outputs": [
    {
     "name": "stdout",
     "output_type": "stream",
     "text": [
      "284 et 220 sont amiables\n",
      "220 et 284 sont amiables\n"
     ]
    }
   ],
   "source": [
    "def amiable(N):\n",
    "    for i in range(1,N): #on part de 1 jusqu'à N, car on ne peut pas diviser par 0\n",
    "        a = sommediv(i) #on stocke dans a la somme des diviseurs stricts de i avec notre fonction sommediv\n",
    "        if i == sommediv(a) and i != a: #on vérifie si i vaut la somme des diviseurs stricts de a, et si i et a sont distincts\n",
    "            print(a, \"et\", i,\"sont amiables\") #si les deux nombres sont amiables, on l'affiche a l'écran\n",
    "            \n",
    "#on teste pour N = 500\n",
    "amiable(500)"
   ]
  },
  {
   "cell_type": "markdown",
   "metadata": {},
   "source": [
    "c) Afficher la liste des paires de nombres amiables dont le plus petit des deux est inférieur à 3000"
   ]
  },
  {
   "cell_type": "code",
   "execution_count": 6,
   "metadata": {},
   "outputs": [
    {
     "name": "stdout",
     "output_type": "stream",
     "text": [
      "284 et 220 sont amiables\n",
      "220 et 284 sont amiables\n",
      "1210 et 1184 sont amiables\n",
      "1184 et 1210 sont amiables\n",
      "2924 et 2620 sont amiables\n",
      "2620 et 2924 sont amiables\n"
     ]
    }
   ],
   "source": [
    "def amiable_3000():\n",
    "    i = 1 #on initialise un compteur à 1 (car la division par 0 est impossible)\n",
    "    inf_a_3000 = True #on initialise un booléen sur True, il permet de controler la boucle while\n",
    "    while(inf_a_3000 == True): #tant que le booléen est True, la boucle continue\n",
    "        a = sommediv(i) #on stocke dans la variable a la somme des diviseurs stricts de i avec notre fonction sommediv\n",
    "        if i == sommediv(a) and i != a: #on vérifie si i vaut la somme des diviseurs stricts de a, et si i et a sont distincts\n",
    "            if (a < 3000 and i < 3000): #si oui, on vérifie si a et i sont inférieurs à 3000\n",
    "                print(a, \"et\", i,\"sont amiables\") #si les deux nombres sont amiables, on l'affiche a l'écran\n",
    "            else:\n",
    "                inf_a_3000 = False #si a ou i est supérieur à 3000, le booléen devient False, la boucle while s'arrête\n",
    "        i += 1 #on incrémente i (pour le tour de boucle suivant)\n",
    "\n",
    "#on teste\n",
    "amiable_3000()"
   ]
  },
  {
   "cell_type": "code",
   "execution_count": null,
   "metadata": {},
   "outputs": [],
   "source": []
  }
 ],
 "metadata": {
  "kernelspec": {
   "display_name": "SageMath 9.1",
   "language": "sage",
   "name": "sagemath"
  },
  "language_info": {
   "codemirror_mode": {
    "name": "ipython",
    "version": 3
   },
   "file_extension": ".py",
   "mimetype": "text/x-python",
   "name": "python",
   "nbconvert_exporter": "python",
   "pygments_lexer": "ipython3",
   "version": "3.7.3"
  },
  "nteract": {
   "version": "nteract-front-end@1.0.0"
  }
 },
 "nbformat": 4,
 "nbformat_minor": 1
}
