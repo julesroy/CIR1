{
 "cells": [
  {
   "cell_type": "markdown",
   "metadata": {},
   "source": [
    "# TP 2 - Cryptographie"
   ]
  },
  {
   "cell_type": "markdown",
   "metadata": {},
   "source": [
    "Consignes :\n",
    "\n",
    "- TP à faire par groupes de 2. Le groupe de travail sera le même pour toute l'année.\n",
    "- Renommer ce fichier <b>nom1-nom2-TP2</b> , en cliquant sur le titre du fichier \"TP 2 - Cryptographie\" en haut à gauche\n",
    "- TP à rendre dans le devoir Teams à la <b>fin de la séance</b>.\n",
    "- <u>Votre rendu doit contenir des explications. Les notebook avec blocs de code sans aucun contexte seront penalisées.</u>\n",
    "\n",
    "\n",
    "  Cliquer deux fois sur la cellule pour completer ci-dessous :\n",
    "\n",
    "- NOM PRENOM : \n",
    "- NOM PRENOM :\n"
   ]
  },
  {
   "cell_type": "markdown",
   "metadata": {},
   "source": [
    "# La beauté modulaire des tables de multiplication"
   ]
  },
  {
   "cell_type": "markdown",
   "metadata": {},
   "source": [
    "Considérons la table de 3 modulo 10.\n",
    "\n",
    "    3 × 1 = 3,   donc 3 × 1 ≡ 3 (mod. 10)\n",
    "\n",
    "    3 × 2 = 6,   donc 3 × 2 ≡ 6 (mod. 10)\n",
    "\n",
    "    3 × 3 = 9,   donc 3 × 3 ≡ 9 (mod. 10)\n",
    "\n",
    "    3 × 4 = 12, donc 3 × 4 ≡ 2 (mod. 10)\n",
    "\n",
    "    3 × 5 = 15, donc 3 × 5 ≡ 5 (mod. 10)\n",
    "\n",
    "    3 × 6 = 18, donc 3 × 6 ≡ 8 (mod. 10) etc.\n",
    "\n",
    "\n",
    "Représentons maintenant ces calculs sur un cercle. Nous y plaçons 10 points, numérotés de 0 à 9.\n",
    "\n",
    "Puisque 3 × 1 ≡ 3 (mod. 10), nous relions le « 1 » au « 3 ».\n",
    "\n",
    "Puisque 3 × 2 ≡ 6 (mod. 10), nous relions le « 2 » au « 6 ».\n",
    "\n",
    "Puisque 3 × 3 ≡ 9 (mod. 10), nous relions le « 3 » au « 9 ».\n",
    "\n",
    "Puisque 3 × 4 ≡ 2 (mod. 10), nous relions le « 4 » au « 2 ». Etc.\n",
    "\n",
    "\n",
    "Nous obtenons alors le dessin ci-dessous, qui révèle une surprenante structure symétrique.\n",
    "\n",
    " \n",
    "<img src=3mod10.png></img>\n"
   ]
  },
  {
   "cell_type": "markdown",
   "metadata": {},
   "source": [
    "# EXERCICE 1"
   ]
  },
  {
   "cell_type": "markdown",
   "metadata": {},
   "source": [
    "Et si nous regardions la table de 3 « de l'horloge » (table de 3 modulo 60) ? Et celle de 5 ?\n",
    "\n",
    "<img src=3mod60.png></img>\n",
    "<img src=5mod60.png></img>\n",
    "\n",
    "a) Ecrire une fonction `dessinsModulo(n,a)` qui prend en entrée deux entiers : $n$ pour le modulo et $a$ pour la table de multiplication.\n",
    "\n",
    "Cette fonction doit :\n",
    "\n",
    "- dessiner un cercle de centre 0 et rayon 1\n",
    "- placer sur le cercle $n$ points\n",
    "- tracer les lignes qui relient les calculs de la table de multiplication, comme expliqué précédemment.\n"
   ]
  },
  {
   "cell_type": "code",
   "execution_count": null,
   "metadata": {},
   "outputs": [],
   "source": []
  },
  {
   "cell_type": "markdown",
   "metadata": {},
   "source": [
    "b) Utiliser votre fonction pour obtenir les deux figures (table de 3 modulo 60 et table de 5 modulo 60) ci-dessus."
   ]
  },
  {
   "cell_type": "code",
   "execution_count": null,
   "metadata": {},
   "outputs": [],
   "source": []
  },
  {
   "cell_type": "code",
   "execution_count": null,
   "metadata": {},
   "outputs": [],
   "source": []
  },
  {
   "cell_type": "markdown",
   "metadata": {},
   "source": [
    "c)  Amusez vous encore un peu...\n",
    "\n",
    "Faire 5 dessins au choix en utilisant votre fonction `dessinsModulo(n,a)`"
   ]
  },
  {
   "cell_type": "code",
   "execution_count": null,
   "metadata": {},
   "outputs": [],
   "source": []
  },
  {
   "cell_type": "markdown",
   "metadata": {},
   "source": [
    "# Préliminaires : Chaines de caractères "
   ]
  },
  {
   "cell_type": "markdown",
   "metadata": {},
   "source": [
    "<b>Chaines et sous-chaines : "
   ]
  },
  {
   "cell_type": "code",
   "execution_count": 16,
   "metadata": {},
   "outputs": [
    {
     "name": "stdout",
     "output_type": "stream",
     "text": [
      "4\n",
      "ES\n"
     ]
    }
   ],
   "source": [
    "chain = \"TEST\"\n",
    "print(len(chain))\n",
    "print(chain[1:len(chain)-1])"
   ]
  },
  {
   "cell_type": "markdown",
   "metadata": {},
   "source": [
    "<b>Parcours d'une séquence : for... in..."
   ]
  },
  {
   "cell_type": "code",
   "execution_count": 17,
   "metadata": {},
   "outputs": [
    {
     "name": "stdout",
     "output_type": "stream",
     "text": [
      "C *r *y *p *t *h *o *g *r *a *p *h *i *e *"
     ]
    }
   ],
   "source": [
    "nom = 'Crypthographie'\n",
    "for character in nom:\n",
    "    print(character,'*',end='')"
   ]
  },
  {
   "cell_type": "markdown",
   "metadata": {},
   "source": [
    "La methode <b>index()</b> renvoie une valeur entière:\n",
    "\n",
    "- Si la sous-chaîne existe à l’intérieur de la chaîne, elle renvoie l’index le plus petit de la chaîne où se trouve la sous-chaîne.\n",
    "- Si la sous-chaîne n’existe pas à l’intérieur de la chaîne, elle déclenche une exception ValueError."
   ]
  },
  {
   "cell_type": "code",
   "execution_count": 21,
   "metadata": {},
   "outputs": [
    {
     "name": "stdout",
     "output_type": "stream",
     "text": [
      "4\n"
     ]
    }
   ],
   "source": [
    "str = \"Supercalifragilistichespiralidoso\"\n",
    "i = str.index(\"r\")\n",
    "print(i)"
   ]
  },
  {
   "cell_type": "markdown",
   "metadata": {},
   "source": [
    "#  ROT13"
   ]
  },
  {
   "cell_type": "markdown",
   "metadata": {},
   "source": [
    "Le ROT13 (de l'anglais « rotate by 13 places ») est un cas particulier du chiffre de César, un algorithme simpliste de chiffrement de texte. Comme son nom l'indique, il s'agit de décaler chaque lettre du texte à chiffrer de 13 places. Son principal aspect pratique est que le codage et le décodage se font exactement de la même manière. En effet, puisque l'alphabet comporte 26 lettres, il suffit de décaler deux fois de 13 caractères pour revenir à la lettre de départ.\n",
    "\n",
    "\n",
    "L'alphabet utilisé dans ROT13 est :\n",
    "    \n",
    "    ABCDEFGHIJKLMNOPQRSTUVWXYZ\n",
    "\n",
    "Cependant, contrairement à d'autres méthodes de cryptographie (où l'intérêt réside dans le fait qu'il est difficile voire impossible de lire le message si l'on n'a pas le code pour le décoder), il s'agit plus ici de faire en sorte que le message ne soit pas lisible directement mais qu'il soit néanmoins possible de l'obtenir sans grosses difficultés. Il est plutôt utilisé dans les pages web pour ne pas dévoiler à tous des solutions de jeux, des fins de films ou pour ne pas divulgâcher l’intrigue d’une série…"
   ]
  },
  {
   "cell_type": "markdown",
   "metadata": {},
   "source": [
    "# EXERCICE 2"
   ]
  },
  {
   "cell_type": "markdown",
   "metadata": {},
   "source": [
    "a) Définir une fonction `rot(m,i,alpha)` qui prend en entrée :\n",
    "\n",
    "- $m$, un message à crypter (ou décrypter)\n",
    "- $i$, un indice de décalage qui sera fixé à 13 pour ROT13\n",
    "- $alpha$, l'alphabet utilisé. \n",
    "\n",
    "La fonction returne le message crypté (ou décrypté).\n",
    "\n",
    "Si le caractere utilisé dans le message n'est pas present dans l'alphabet, on le garde sans le crypter.\n",
    "\n",
    "\n",
    "Par exemple, vous pouvez tester votre fonction en utilisant les entrées suivantes :\n",
    "\n",
    "- alpha13 = \"ABCDEFGHIJKLMNOPQRSTUVWXYZ\" \n",
    "- m = \"TEST\"\n",
    "\n",
    "Avec un décalage de 13, vous devez obtenir 'GRFG'\n"
   ]
  },
  {
   "cell_type": "code",
   "execution_count": null,
   "metadata": {},
   "outputs": [],
   "source": [
    "# a) "
   ]
  },
  {
   "cell_type": "code",
   "execution_count": 22,
   "metadata": {},
   "outputs": [
    {
     "name": "stdout",
     "output_type": "stream",
     "text": [
      "GRFG\n",
      "TEST\n"
     ]
    }
   ],
   "source": [
    "def rot(m, i, alpha):\n",
    "    m_cryptee = \"\" #chaine qui contiendra le resultat crypté (ou décrypté)\n",
    "    for j in range(len(m)): #on parcourt m\n",
    "        if m[j] == \" \" or m[j] == \"'\": #si on rencontre un caractère spécial\n",
    "            m_cryptee += m[j] #on ne change pas le caractère spécial, on l'ajoute comme tel\n",
    "        elif m[j] in alpha: #si le caractère parcouru fait parti de l'alphabet alpha passé en paramètre\n",
    "            nb = alpha.index(m[j]) #on récupère la position de la lettre dans l'alphabet avec la méthode index\n",
    "            lettre_remplacement = (nb + i) % len(alpha) #on récupère l'index de la lettre apres la rotation avec le modulo\n",
    "            m_cryptee += alpha[lettre_remplacement] #on ajoute a la chaîne cryptée la nouvelle lettre\n",
    "        else: #en cas de caractère rencontré non inclus dans alpha\n",
    "            print(\"Caractère non valide rencontré\") #message d'erreur\n",
    "            return #fin de la fonction\n",
    "    print(m_cryptee)\n",
    "    \n",
    "rot(\"TEST\", 13, \"ABCDEFGHIJKLMNOPQRSTUVWXYZ\")\n",
    "rot(\"GRFG\", 13, \"ABCDEFGHIJKLMNOPQRSTUVWXYZ\")"
   ]
  },
  {
   "cell_type": "markdown",
   "metadata": {},
   "source": [
    "b) Chiffrer et déchiffrer la phrase: \"LA VITA E' BELLA\""
   ]
  },
  {
   "cell_type": "code",
   "execution_count": 23,
   "metadata": {},
   "outputs": [
    {
     "name": "stdout",
     "output_type": "stream",
     "text": [
      "Voici le chiffrement de la chaîne:\n",
      "YN IVGN R' ORYYN\n",
      "Et son déchiffrement:\n",
      "LA VITA E' BELLA\n"
     ]
    }
   ],
   "source": [
    "# b)\n",
    "print(\"Voici le chiffrement de la chaîne:\")\n",
    "rot(\"LA VITA E' BELLA\", 13, \"ABCDEFGHIJKLMNOPQRSTUVWXYZ\")\n",
    "print(\"Et son déchiffrement:\")\n",
    "rot(\"YN IVGN R' ORYYN\", 13, \"ABCDEFGHIJKLMNOPQRSTUVWXYZ\")"
   ]
  },
  {
   "cell_type": "markdown",
   "metadata": {},
   "source": [
    "# EXERCICE 3"
   ]
  },
  {
   "cell_type": "markdown",
   "metadata": {},
   "source": [
    "En utilisant la fonction `rot` déchiffrer :\n",
    "\n",
    "    a) OHFUBSWDJHHVWODUWGHFRGHUXQPHVVDJH\n",
    "\n",
    "    b) VOCOVOFOCKSWOXDVKMBIZDYQBKZRSO"
   ]
  },
  {
   "cell_type": "code",
   "execution_count": 35,
   "metadata": {},
   "outputs": [
    {
     "name": "stdout",
     "output_type": "stream",
     "text": [
      "OHFUBSWDJHHVWODUWGHFRGHUXQPHVVDJH\n",
      "0\n",
      "PIGVCTXEKIIWXPEVXHIGSHIVYRQIWWEKI\n",
      "1\n",
      "QJHWDUYFLJJXYQFWYIJHTIJWZSRJXXFLJ\n",
      "2\n",
      "RKIXEVZGMKKYZRGXZJKIUJKXATSKYYGMK\n",
      "3\n",
      "SLJYFWAHNLLZASHYAKLJVKLYBUTLZZHNL\n",
      "4\n",
      "TMKZGXBIOMMABTIZBLMKWLMZCVUMAAIOM\n",
      "5\n",
      "UNLAHYCJPNNBCUJACMNLXMNADWVNBBJPN\n",
      "6\n",
      "VOMBIZDKQOOCDVKBDNOMYNOBEXWOCCKQO\n",
      "7\n",
      "WPNCJAELRPPDEWLCEOPNZOPCFYXPDDLRP\n",
      "8\n",
      "XQODKBFMSQQEFXMDFPQOAPQDGZYQEEMSQ\n",
      "9\n",
      "YRPELCGNTRRFGYNEGQRPBQREHAZRFFNTR\n",
      "10\n",
      "ZSQFMDHOUSSGHZOFHRSQCRSFIBASGGOUS\n",
      "11\n",
      "ATRGNEIPVTTHIAPGISTRDSTGJCBTHHPVT\n",
      "12\n",
      "BUSHOFJQWUUIJBQHJTUSETUHKDCUIIQWU\n",
      "13\n",
      "CVTIPGKRXVVJKCRIKUVTFUVILEDVJJRXV\n",
      "14\n",
      "DWUJQHLSYWWKLDSJLVWUGVWJMFEWKKSYW\n",
      "15\n",
      "EXVKRIMTZXXLMETKMWXVHWXKNGFXLLTZX\n",
      "16\n",
      "FYWLSJNUAYYMNFULNXYWIXYLOHGYMMUAY\n",
      "17\n",
      "GZXMTKOVBZZNOGVMOYZXJYZMPIHZNNVBZ\n",
      "18\n",
      "HAYNULPWCAAOPHWNPZAYKZANQJIAOOWCA\n",
      "19\n",
      "IBZOVMQXDBBPQIXOQABZLABORKJBPPXDB\n",
      "20\n",
      "JCAPWNRYECCQRJYPRBCAMBCPSLKCQQYEC\n",
      "21\n",
      "KDBQXOSZFDDRSKZQSCDBNCDQTMLDRRZFD\n",
      "22\n",
      "LECRYPTAGEESTLARTDECODERUNMESSAGE\n",
      "23\n",
      "MFDSZQUBHFFTUMBSUEFDPEFSVONFTTBHF\n",
      "24\n",
      "Après analyse, l'indice de décalage est 22\n"
     ]
    }
   ],
   "source": [
    "# a)\n",
    "#on réalise une boucle pour tester les 26 possibilités\n",
    "for i in range(25):\n",
    "    a = rot(\"OHFUBSWDJHHVWODUWGHFRGHUXQPHVVDJH\", i, \"ABCDEFGHIJKLMNOPQRSTUVWXYZ\")\n",
    "    print(i)\n",
    "    \n",
    "print(\"Après analyse, l'indice de décalage est 22\")"
   ]
  },
  {
   "cell_type": "code",
   "execution_count": 37,
   "metadata": {},
   "outputs": [
    {
     "name": "stdout",
     "output_type": "stream",
     "text": [
      "VOCOVOFOCKSWOXDVKMBIZDYQBKZRSO\n",
      "0\n",
      "WPDPWPGPDLTXPYEWLNCJAEZRCLASTP\n",
      "1\n",
      "XQEQXQHQEMUYQZFXMODKBFASDMBTUQ\n",
      "2\n",
      "YRFRYRIRFNVZRAGYNPELCGBTENCUVR\n",
      "3\n",
      "ZSGSZSJSGOWASBHZOQFMDHCUFODVWS\n",
      "4\n",
      "ATHTATKTHPXBTCIAPRGNEIDVGPEWXT\n",
      "5\n",
      "BUIUBULUIQYCUDJBQSHOFJEWHQFXYU\n",
      "6\n",
      "CVJVCVMVJRZDVEKCRTIPGKFXIRGYZV\n",
      "7\n",
      "DWKWDWNWKSAEWFLDSUJQHLGYJSHZAW\n",
      "8\n",
      "EXLXEXOXLTBFXGMETVKRIMHZKTIABX\n",
      "9\n",
      "FYMYFYPYMUCGYHNFUWLSJNIALUJBCY\n",
      "10\n",
      "GZNZGZQZNVDHZIOGVXMTKOJBMVKCDZ\n",
      "11\n",
      "HAOAHARAOWEIAJPHWYNULPKCNWLDEA\n",
      "12\n",
      "IBPBIBSBPXFJBKQIXZOVMQLDOXMEFB\n",
      "13\n",
      "JCQCJCTCQYGKCLRJYAPWNRMEPYNFGC\n",
      "14\n",
      "KDRDKDUDRZHLDMSKZBQXOSNFQZOGHD\n",
      "15\n",
      "LESELEVESAIMENTLACRYPTOGRAPHIE\n",
      "16\n",
      "MFTFMFWFTBJNFOUMBDSZQUPHSBQIJF\n",
      "17\n",
      "NGUGNGXGUCKOGPVNCETARVQITCRJKG\n",
      "18\n",
      "OHVHOHYHVDLPHQWODFUBSWRJUDSKLH\n",
      "19\n",
      "PIWIPIZIWEMQIRXPEGVCTXSKVETLMI\n",
      "20\n",
      "QJXJQJAJXFNRJSYQFHWDUYTLWFUMNJ\n",
      "21\n",
      "RKYKRKBKYGOSKTZRGIXEVZUMXGVNOK\n",
      "22\n",
      "SLZLSLCLZHPTLUASHJYFWAVNYHWOPL\n",
      "23\n",
      "TMAMTMDMAIQUMVBTIKZGXBWOZIXPQM\n",
      "24\n",
      "Après analyse, l'indice de décalage est 22\n"
     ]
    }
   ],
   "source": [
    "# b)\n",
    "#on réalise une boucle pour tester les 26 possibilités\n",
    "for i in range(25):\n",
    "    a = rot(\"VOCOVOFOCKSWOXDVKMBIZDYQBKZRSO\", i, \"ABCDEFGHIJKLMNOPQRSTUVWXYZ\")\n",
    "    print(i)\n",
    "    \n",
    "print(\"Après analyse, l'indice de décalage est 16\")"
   ]
  },
  {
   "cell_type": "markdown",
   "metadata": {},
   "source": [
    "# La méthode RSA comme méthode de signature numérique"
   ]
  },
  {
   "cell_type": "markdown",
   "metadata": {},
   "source": [
    "L’algorithme RSA est un algorithme de cryptographie asymétrique. Asymétrique signifie en fait qu’il fonctionne sur deux clés différentes, à savoir la clé publique et la clé privée. Comme son nom l’indique, la clé publique est donnée à tout le monde et la clé privée reste privée.\n",
    "\n",
    "Un exemple de cryptographie asymétrique:\n",
    "\n",
    "- Un client (par exemple un navigateur) envoie sa clé publique au serveur et demande certaines données.\n",
    "- Le serveur crypte les données à l’aide de la clé publique du client et envoie les données cryptées.\n",
    "- Le client reçoit ces données et les déchiffre.\n",
    " \n",
    "Comme cela est asymétrique, personne d’autre que le navigateur ne peut décrypter les données même si un tiers possède la clé publique du navigateur.\n",
    "\n",
    "\n",
    "Un algorithme de <a href=\"https://fr.wikipedia.org/wiki/Signature_num%C3%A9rique\">signature numérique</a> utilise un système de clé publique $(n, e)$. \n",
    "L’émetteur prévu signe son message avec sa clé privée $(n,d)$ et le récepteur prévu le vérifie avec la clé publique de l’émetteur. \n",
    "\n",
    "Une signature numérique peut fournir des services d’authentification de message, d’intégrité de message et de non-répudiation.\n",
    " "
   ]
  },
  {
   "cell_type": "markdown",
   "metadata": {},
   "source": [
    "# EXERCICE 4"
   ]
  },
  {
   "cell_type": "markdown",
   "metadata": {},
   "source": [
    "Les signatures numériques sont utilisées pour vérifier l’authenticité du message envoyé par voie électronique.\n",
    "\n",
    "Implementer un algorithme de signature numérique en suivant les étapes ci-dessous."
   ]
  },
  {
   "cell_type": "markdown",
   "metadata": {},
   "source": [
    "a) Choisir deux grands nombres premiers $p$ et $q$"
   ]
  },
  {
   "cell_type": "code",
   "execution_count": null,
   "metadata": {},
   "outputs": [],
   "source": []
  },
  {
   "cell_type": "markdown",
   "metadata": {},
   "source": [
    "b) Calculer $n = p * q$"
   ]
  },
  {
   "cell_type": "code",
   "execution_count": null,
   "metadata": {},
   "outputs": [],
   "source": [
    " "
   ]
  },
  {
   "cell_type": "markdown",
   "metadata": {},
   "source": [
    "c) Sélectionner une clé publique. Y-a-il une contrainte sur le choix de cette clé ? Si oui, lequel et pourquoi ?"
   ]
  },
  {
   "cell_type": "code",
   "execution_count": null,
   "metadata": {},
   "outputs": [],
   "source": []
  },
  {
   "cell_type": "markdown",
   "metadata": {},
   "source": [
    "d) Calculer la clé privé."
   ]
  },
  {
   "cell_type": "code",
   "execution_count": null,
   "metadata": {},
   "outputs": [],
   "source": []
  },
  {
   "cell_type": "markdown",
   "metadata": {},
   "source": [
    "e) Créer la signature numérique en cryptant le message M suivant :\n",
    "\n",
    "    M = 19070\n",
    "   "
   ]
  },
  {
   "cell_type": "markdown",
   "metadata": {},
   "source": [
    "f) Vous envoyez le message et la signature.\n",
    "\n",
    "La personne qui recoit le message, vérifie que le message recu correspond bien au message envoyé."
   ]
  },
  {
   "cell_type": "code",
   "execution_count": null,
   "metadata": {},
   "outputs": [],
   "source": []
  }
 ],
 "metadata": {
  "kernelspec": {
   "display_name": "SageMath 9.1",
   "language": "sage",
   "name": "sagemath"
  },
  "language_info": {
   "codemirror_mode": {
    "name": "ipython",
    "version": 3
   },
   "file_extension": ".py",
   "mimetype": "text/x-python",
   "name": "python",
   "nbconvert_exporter": "python",
   "pygments_lexer": "ipython3",
   "version": "3.7.3"
  }
 },
 "nbformat": 4,
 "nbformat_minor": 1
}
