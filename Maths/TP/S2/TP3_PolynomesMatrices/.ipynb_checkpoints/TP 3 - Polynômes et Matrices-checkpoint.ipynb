{
 "cells": [
  {
   "cell_type": "markdown",
   "metadata": {},
   "source": [
    "# TP 3 - Polynômes et Matrices"
   ]
  },
  {
   "cell_type": "markdown",
   "metadata": {},
   "source": [
    "Consignes :\n",
    "\n",
    "- TP à faire par groupes de 2. Le groupe de travail sera le même pour toute l'année.\n",
    "- Renommer ce fichier <b>nom1-nom2-TP3</b> , en cliquant sur le titre du fichier \"TP 3 - Polynômes et Matrices\" en haut à gauche\n",
    "- TP à rendre dans le devoir Teams à la <b>fin de la séance</b>.\n",
    "-  <font  size=\"2\" color=\"red\"><b>Vous avez jusqu'à LUNDI 27 FEVRIER à minuit pour déposer une version à jour de votre TP.</b></font>\n",
    "- <u>Votre rendu doit contenir des explications. Les notebook avec blocs de code sans aucun contexte seront penalisées.</u>\n",
    "\n",
    "\n",
    "  Cliquer deux fois sur la cellule pour completer ci-dessous :\n",
    "\n",
    "- NOM PRENOM : ROY Jules\n",
    "- NOM PRENOM : DUMAS Antonin"
   ]
  },
  {
   "cell_type": "markdown",
   "metadata": {},
   "source": [
    "# Polynômes"
   ]
  },
  {
   "cell_type": "markdown",
   "metadata": {},
   "source": [
    "Certaines commandes utiles sur les&nbsp;<a href=\"http://doc.sagemath.org/html/en/reference/polynomial_rings/sage/rings/polynomial/multi_polynomial_element.html\">polyn&ocirc;mes</a>&nbsp; ou&nbsp;<a href=\"http://doc.sagemath.org/html/fr/tutorial/tour_polynomial.html\">ici</a>&nbsp;:</p>\n",
    "\n",
    "- `PolyZ.<X> = ZZ[]` : on cr&eacute;e un&nbsp;&nbsp;un polyn&ocirc;me sur un ensemble $\\mathbb{K}$ ($\\mathbb{Z}$, $\\mathbb{Q}$,&nbsp;&nbsp;$\\mathbb{R}$ ou&nbsp;$\\mathbb{C}$)\n",
    "- `P.degree()`\n",
    "- `P.roots()`\n",
    "- `P.variables()`\n",
    "- `P.variable_name()`\n",
    "- `P.coefficients()`\n",
    "- `gcd(P,Q)`\n",
    "- `xgcd(P,Q)`\n",
    "- `lcm(P,Q)`"
   ]
  },
  {
   "cell_type": "markdown",
   "metadata": {},
   "source": [
    "# Exercice 1"
   ]
  },
  {
   "cell_type": "markdown",
   "metadata": {},
   "source": [
    "a) En utilisant la commande `PolyZ.<X> = ZZ[]`, définir sur $\\mathbb{Z}$ les deux polynômes suivants : \n",
    "\n",
    "$$P =3(X-1)(X+1)(X+2)$$  \n",
    "\n",
    "$$Q = (X-1)^2(X+2)(X^2+3) $$ \n",
    "\n"
   ]
  },
  {
   "cell_type": "code",
   "execution_count": 19,
   "metadata": {},
   "outputs": [
    {
     "data": {
      "text/html": [
       "<html><script type=\"math/tex; mode=display\">\\newcommand{\\Bold}[1]{\\mathbf{#1}}3X^{3} + 6X^{2} - 3X - 6</script></html>"
      ],
      "text/plain": [
       "3*X^3 + 6*X^2 - 3*X - 6"
      ]
     },
     "metadata": {},
     "output_type": "display_data"
    },
    {
     "data": {
      "text/html": [
       "<html><script type=\"math/tex; mode=display\">\\newcommand{\\Bold}[1]{\\mathbf{#1}}X^{5} + 2X^{2} - 9X + 6</script></html>"
      ],
      "text/plain": [
       "X^5 + 2*X^2 - 9*X + 6"
      ]
     },
     "metadata": {},
     "output_type": "display_data"
    }
   ],
   "source": [
    "PolyZ.<X> = ZZ[] #utilisation de la commande pour créer l'ensemble du polynome\n",
    "P = 3*(X-1)*(X+1)*(X+2); P #on créer le polynome P avec X\n",
    "show(P) #on affiche P\n",
    "Q = ((X-1)^2)*(X+2)*((X^2)+3) #on créer le polynome Q avec X\n",
    "show(Q) #on affiche Q"
   ]
  },
  {
   "cell_type": "markdown",
   "metadata": {},
   "source": [
    "b) Vérifier qu'ils appartiennent à l'ensemble des polynômes à coefficients dans $\\mathbb{Z}$ "
   ]
  },
  {
   "cell_type": "code",
   "execution_count": 20,
   "metadata": {},
   "outputs": [
    {
     "name": "stdout",
     "output_type": "stream",
     "text": [
      "True\n",
      "True\n"
     ]
    }
   ],
   "source": [
    "print(P in PolyZ) #avec P in PolyZ, on peut vérifier si le polynome appartient a l'ensemble défini par PolyZ, si cela renvoie True le polynome appartient a l'ensemble défini par PolyZ\n",
    "print(Q in PolyZ) #avec Q in PolyZ, on peut vérifier si le polynome appartient a l'ensemble défini par PolyZ, si cela renvoie True le polynome appartient a l'ensemble défini par PolyZ"
   ]
  },
  {
   "cell_type": "markdown",
   "metadata": {},
   "source": [
    "c) Tester et <b>décrire</b> toutes les commandes listées precedemment sur les deux polynômes $P$ et $Q$ que vous venez de définir."
   ]
  },
  {
   "cell_type": "code",
   "execution_count": 27,
   "metadata": {},
   "outputs": [
    {
     "name": "stdout",
     "output_type": "stream",
     "text": [
      "Le degré du polynome P est 3\n",
      "Le degré du polynome Q est 5\n"
     ]
    }
   ],
   "source": [
    "print(\"Le degré du polynome P est\", P.degree()) #affiche le degré (càd le coefficient le plus grand) du polynome P\n",
    "print(\"Le degré du polynome Q est\", Q.degree()) #affiche le degré (càd le coefficient le plus grand) du polynome Q"
   ]
  },
  {
   "cell_type": "code",
   "execution_count": 31,
   "metadata": {},
   "outputs": [
    {
     "name": "stdout",
     "output_type": "stream",
     "text": [
      "Les racines du polynome P sont: [(1, 1), (-1, 1), (-2, 1)]\n",
      "Les racines du polynome Q sont: [(-2, 1), (1, 2)]\n"
     ]
    }
   ],
   "source": [
    "print(\"Les racines du polynome P sont:\", P.roots()) #affiche les racines du polynome P et sa multiplicité\n",
    "print(\"Les racines du polynome Q sont:\", Q.roots()) #affiche les racines du polynome Q et sa multiplicité"
   ]
  },
  {
   "cell_type": "code",
   "execution_count": 32,
   "metadata": {},
   "outputs": [
    {
     "name": "stdout",
     "output_type": "stream",
     "text": [
      "(X,)\n",
      "(X,)\n"
     ]
    }
   ],
   "source": [
    "print(P.variables()) #affiche, sous forme de tuple, les variables intervenant dans P\n",
    "print(Q.variables()) #affiche, sous forme de tuple, les variables intervenant dans Q"
   ]
  },
  {
   "cell_type": "code",
   "execution_count": 34,
   "metadata": {},
   "outputs": [
    {
     "name": "stdout",
     "output_type": "stream",
     "text": [
      "X\n",
      "X\n"
     ]
    }
   ],
   "source": [
    "print(P.variable_name()) #affiche les variables intervenant dans P\n",
    "print(Q.variable_name()) #affiche les variables intervenant dans Q"
   ]
  },
  {
   "cell_type": "code",
   "execution_count": 36,
   "metadata": {},
   "outputs": [
    {
     "name": "stdout",
     "output_type": "stream",
     "text": [
      "[-6, -3, 6, 3]\n",
      "[6, -9, 2, 1]\n"
     ]
    }
   ],
   "source": [
    "print(P.coefficients())\n",
    "print(Q.coefficients())"
   ]
  },
  {
   "cell_type": "code",
   "execution_count": 37,
   "metadata": {},
   "outputs": [
    {
     "name": "stdout",
     "output_type": "stream",
     "text": [
      "X^2 + X - 2\n"
     ]
    }
   ],
   "source": [
    "print(gcd(P,Q)) #affiche le PGCD de P et Q"
   ]
  },
  {
   "cell_type": "code",
   "execution_count": 48,
   "metadata": {},
   "outputs": [
    {
     "name": "stdout",
     "output_type": "stream",
     "text": [
      "(1.00000000000000, -0.149038461538462*X^4 - 0.139423076923077*X^3 - 0.0336538461538461*X^2 - 0.168269230769231*X + 0.990384615384616, 0.149038461538462*X^2 + 0.139423076923077*X + 0.331730769230769)\n"
     ]
    }
   ],
   "source": [
    "print(xgcd(P,Q)) #Théorème de Bézout"
   ]
  },
  {
   "cell_type": "code",
   "execution_count": 39,
   "metadata": {},
   "outputs": [
    {
     "name": "stdout",
     "output_type": "stream",
     "text": [
      "3*X^6 + 3*X^5 + 6*X^3 - 21*X^2 - 9*X + 18\n"
     ]
    }
   ],
   "source": [
    "print(lcm(P,Q))"
   ]
  },
  {
   "cell_type": "markdown",
   "metadata": {},
   "source": [
    "# Exercice 2"
   ]
  },
  {
   "cell_type": "markdown",
   "metadata": {},
   "source": [
    "Soit $ P(X)=X^3+2X-1 $\n",
    "\n",
    "a) Définir $P$ sur $\\mathbb{R}$ et $\\mathbb{C}$. "
   ]
  },
  {
   "cell_type": "code",
   "execution_count": 40,
   "metadata": {},
   "outputs": [
    {
     "data": {
      "text/html": [
       "<html><script type=\"math/tex; mode=display\">\\newcommand{\\Bold}[1]{\\mathbf{#1}}X^{3} + 0.000000000000000 X^{2} + 2.00000000000000 X - 1.00000000000000</script></html>"
      ],
      "text/plain": [
       "X^3 + 2.00000000000000*X - 1.00000000000000"
      ]
     },
     "metadata": {},
     "output_type": "display_data"
    }
   ],
   "source": [
    "#définition de P sur R\n",
    "PolyZ.<X> = RR[] #utilisation de la commande pour créer l'ensemble du polynome\n",
    "P = (X^3)+(2*X)-1 #définition du polynome\n",
    "show(P)"
   ]
  },
  {
   "cell_type": "code",
   "execution_count": 41,
   "metadata": {},
   "outputs": [
    {
     "data": {
      "text/html": [
       "<html><script type=\"math/tex; mode=display\">\\newcommand{\\Bold}[1]{\\mathbf{#1}}X^{3} + 0.000000000000000 X^{2} + 2.00000000000000 X - 1.00000000000000</script></html>"
      ],
      "text/plain": [
       "X^3 + 2.00000000000000*X - 1.00000000000000"
      ]
     },
     "metadata": {},
     "output_type": "display_data"
    }
   ],
   "source": [
    "#définition de P sur C\n",
    "PolyZ.<X> = CC[] #utilisation de la commande pour créer l'ensemble du polynome\n",
    "P = (X^3)+(2*X)-1 #définition du polynome\n",
    "show(P)"
   ]
  },
  {
   "cell_type": "markdown",
   "metadata": {},
   "source": [
    "b) Trouver les racines du polynômes $P$ dans $\\mathbb{R}$ et dans $\\mathbb{C}$."
   ]
  },
  {
   "cell_type": "code",
   "execution_count": 43,
   "metadata": {},
   "outputs": [
    {
     "name": "stdout",
     "output_type": "stream",
     "text": [
      "[(0.453397651516404, 1)]\n"
     ]
    }
   ],
   "source": [
    "#définition de P sur C\n",
    "PolyZ.<X> = RR[] #utilisation de la commande pour créer l'ensemble du polynome\n",
    "P = (X^3)+(2*X)-1 #définition du polynome\n",
    "print(P.roots()) #on affiche les racines"
   ]
  },
  {
   "cell_type": "code",
   "execution_count": 42,
   "metadata": {},
   "outputs": [
    {
     "name": "stdout",
     "output_type": "stream",
     "text": [
      "[(0.453397651516404, 1), (-0.226698825758202 - 1.46771150871022*I, 1), (-0.226698825758202 + 1.46771150871022*I, 1)]\n"
     ]
    }
   ],
   "source": [
    "#définition de P sur C\n",
    "PolyZ.<X> = CC[] #utilisation de la commande pour créer l'ensemble du polynome\n",
    "P = (X^3)+(2*X)-1 #définition du polynome\n",
    "print(P.roots()) #on affiche les racines"
   ]
  },
  {
   "cell_type": "markdown",
   "metadata": {},
   "source": [
    "c) Factoriser $P$ dans $\\mathbb{R}$ et dans $\\mathbb{C}$."
   ]
  },
  {
   "cell_type": "code",
   "execution_count": null,
   "metadata": {},
   "outputs": [],
   "source": []
  },
  {
   "cell_type": "code",
   "execution_count": null,
   "metadata": {},
   "outputs": [],
   "source": []
  },
  {
   "cell_type": "markdown",
   "metadata": {},
   "source": [
    "d) Commenter vos résultats."
   ]
  },
  {
   "cell_type": "code",
   "execution_count": null,
   "metadata": {},
   "outputs": [],
   "source": []
  },
  {
   "cell_type": "markdown",
   "metadata": {},
   "source": [
    "# Méthode de Ruffini"
   ]
  },
  {
   "cell_type": "markdown",
   "metadata": {},
   "source": [
    "La méthode de Ruffni est, la plupart du temps, utilisée à des fins de factorisation.\n",
    "\n",
    "On vérifie si un polynôme est divisible par $X -\\alpha$.\n",
    "\n",
    "Si tel est le cas, le reste de la division est nul et on factorise le polynôme\n",
    "$P(X) = Q(X)(X -\\alpha)$.\n",
    "\n",
    "Si ce n'est pas le cas, le reste n'est pas nul et vaut $R$, on peut écrire :\n",
    "$P(X) = Q(X)(X -\\alpha) + R$.\n",
    "\n",
    "Donc cette méthode nous permet aussi de diviser un polynôme $P$ par un binôme de la\n",
    "forme $X -\\alpha$."
   ]
  },
  {
   "cell_type": "markdown",
   "metadata": {},
   "source": [
    "# Exercice 3"
   ]
  },
  {
   "cell_type": "markdown",
   "metadata": {},
   "source": [
    "a) Implementer une fonction `ruffini(P,alpha)` \n",
    "\n",
    "Elle prend en entrée un polynome $P$ et un coefficient $\\alpha \\in \\mathbb{R}$. Elle donne en sortie le quotient $Q$ et le reste $R$ de la division par $X -\\alpha$.\n",
    "\n"
   ]
  },
  {
   "cell_type": "code",
   "execution_count": null,
   "metadata": {},
   "outputs": [],
   "source": [
    "def ruffini(P, alpha):\n",
    "    PolyZ.<X> = CC[]\n",
    "    "
   ]
  },
  {
   "cell_type": "markdown",
   "metadata": {},
   "source": [
    "b) Tester votre fonction sur le polynôme $X^3-X^2-5X-3$, avec $\\alpha=-1, 1, 2$."
   ]
  },
  {
   "cell_type": "code",
   "execution_count": null,
   "metadata": {},
   "outputs": [],
   "source": []
  },
  {
   "cell_type": "code",
   "execution_count": null,
   "metadata": {},
   "outputs": [],
   "source": []
  },
  {
   "cell_type": "code",
   "execution_count": null,
   "metadata": {},
   "outputs": [],
   "source": []
  },
  {
   "cell_type": "markdown",
   "metadata": {},
   "source": [
    "#  Matrices"
   ]
  },
  {
   "cell_type": "markdown",
   "metadata": {},
   "source": [
    "La commande `matrix(n,p,[ [ligne1], [ligne2], ... ])` définit une matrice  de $n$  lignes et  $p$  colonnes."
   ]
  },
  {
   "cell_type": "code",
   "execution_count": 3,
   "metadata": {},
   "outputs": [
    {
     "data": {
      "text/plain": [
       "[0 0]\n",
       "[0 0]\n",
       "[0 0]"
      ]
     },
     "execution_count": 3,
     "metadata": {},
     "output_type": "execute_result"
    }
   ],
   "source": [
    "#Exemple\n",
    "\n",
    "matrix(3,2) # 3 lignes et 2 colonnes"
   ]
  },
  {
   "cell_type": "markdown",
   "metadata": {},
   "source": [
    "On peut construire une matrice en indicant les éléments de ses lignes et colonnes :"
   ]
  },
  {
   "cell_type": "code",
   "execution_count": 11,
   "metadata": {},
   "outputs": [
    {
     "data": {
      "text/plain": [
       "[1 2]\n",
       "[3 4]"
      ]
     },
     "execution_count": 11,
     "metadata": {},
     "output_type": "execute_result"
    }
   ],
   "source": [
    "A = matrix([[1,2],[3,4]])\n",
    "A"
   ]
  },
  {
   "cell_type": "markdown",
   "metadata": {},
   "source": [
    "On peut aussi préciser l'ensemble 𝕂 sur lequel on travail"
   ]
  },
  {
   "cell_type": "code",
   "execution_count": 31,
   "metadata": {},
   "outputs": [
    {
     "data": {
      "text/plain": [
       "[1.00000000000000 2.00000000000000 3.00000000000000]\n",
       "[4.00000000000000 5.00000000000000 6.00000000000000]"
      ]
     },
     "execution_count": 31,
     "metadata": {},
     "output_type": "execute_result"
    }
   ],
   "source": [
    "A = matrix(RR,[[1,2,3],[4,5,6]])\n",
    "A"
   ]
  },
  {
   "cell_type": "markdown",
   "metadata": {},
   "source": [
    "REMARQUE : Pour Sage, pour une matrice de taille $n$ les indices varient de $0$ à $n−1$."
   ]
  },
  {
   "cell_type": "code",
   "execution_count": 19,
   "metadata": {},
   "outputs": [
    {
     "data": {
      "text/plain": [
       "1.00000000000000"
      ]
     },
     "execution_count": 19,
     "metadata": {},
     "output_type": "execute_result"
    }
   ],
   "source": [
    "A[0,0] #élément à la place (1,1)"
   ]
  },
  {
   "cell_type": "code",
   "execution_count": 20,
   "metadata": {},
   "outputs": [
    {
     "data": {
      "text/plain": [
       "(1.00000000000000, 2.00000000000000, 3.00000000000000)"
      ]
     },
     "execution_count": 20,
     "metadata": {},
     "output_type": "execute_result"
    }
   ],
   "source": [
    "A[0] #première ligne"
   ]
  },
  {
   "cell_type": "code",
   "execution_count": 21,
   "metadata": {},
   "outputs": [
    {
     "data": {
      "text/plain": [
       "[1.00000000000000]\n",
       "[4.00000000000000]"
      ]
     },
     "execution_count": 21,
     "metadata": {},
     "output_type": "execute_result"
    }
   ],
   "source": [
    "A[:,0] #première colonne"
   ]
  },
  {
   "cell_type": "markdown",
   "metadata": {},
   "source": [
    "On définit la matrice identité de taille $n$ par `identity_matrix(n)` "
   ]
  },
  {
   "cell_type": "code",
   "execution_count": 23,
   "metadata": {},
   "outputs": [
    {
     "data": {
      "text/plain": [
       "[1 0 0]\n",
       "[0 1 0]\n",
       "[0 0 1]"
      ]
     },
     "execution_count": 23,
     "metadata": {},
     "output_type": "execute_result"
    }
   ],
   "source": [
    "identity_matrix(3)"
   ]
  },
  {
   "cell_type": "markdown",
   "metadata": {},
   "source": [
    "On calcule le determinant par `det(A)` ou `A.det()` "
   ]
  },
  {
   "cell_type": "code",
   "execution_count": 33,
   "metadata": {},
   "outputs": [
    {
     "data": {
      "text/plain": [
       "-2"
      ]
     },
     "execution_count": 33,
     "metadata": {},
     "output_type": "execute_result"
    }
   ],
   "source": [
    "B = matrix([[1,2],[3,4]])\n",
    "B.det()"
   ]
  },
  {
   "cell_type": "code",
   "execution_count": 34,
   "metadata": {},
   "outputs": [
    {
     "data": {
      "text/plain": [
       "-2"
      ]
     },
     "execution_count": 34,
     "metadata": {},
     "output_type": "execute_result"
    }
   ],
   "source": [
    "det(B)"
   ]
  },
  {
   "cell_type": "markdown",
   "metadata": {},
   "source": [
    "On calcule l'inverse par `A^-1` ou `A.inverse()` ou `~A`"
   ]
  },
  {
   "cell_type": "code",
   "execution_count": 35,
   "metadata": {},
   "outputs": [
    {
     "data": {
      "text/plain": [
       "[  -2    1]\n",
       "[ 3/2 -1/2]"
      ]
     },
     "execution_count": 35,
     "metadata": {},
     "output_type": "execute_result"
    }
   ],
   "source": [
    "B^-1"
   ]
  },
  {
   "cell_type": "code",
   "execution_count": 36,
   "metadata": {},
   "outputs": [
    {
     "data": {
      "text/plain": [
       "[  -2    1]\n",
       "[ 3/2 -1/2]"
      ]
     },
     "execution_count": 36,
     "metadata": {},
     "output_type": "execute_result"
    }
   ],
   "source": [
    "B.inverse()"
   ]
  },
  {
   "cell_type": "code",
   "execution_count": 37,
   "metadata": {},
   "outputs": [
    {
     "data": {
      "text/plain": [
       "[  -2    1]\n",
       "[ 3/2 -1/2]"
      ]
     },
     "execution_count": 37,
     "metadata": {},
     "output_type": "execute_result"
    }
   ],
   "source": [
    "~B"
   ]
  },
  {
   "cell_type": "markdown",
   "metadata": {},
   "source": [
    "On multiplie deux matrices (compatibles) par `A*B` "
   ]
  },
  {
   "cell_type": "code",
   "execution_count": 39,
   "metadata": {},
   "outputs": [
    {
     "data": {
      "text/plain": [
       "[9.00000000000000 12.0000000000000 15.0000000000000]\n",
       "[19.0000000000000 26.0000000000000 33.0000000000000]"
      ]
     },
     "execution_count": 39,
     "metadata": {},
     "output_type": "execute_result"
    }
   ],
   "source": [
    "B*A"
   ]
  },
  {
   "cell_type": "markdown",
   "metadata": {},
   "source": [
    "On peut aussi définir des vecteurs par `vector([x1,x2,...,xn])` \n"
   ]
  },
  {
   "cell_type": "code",
   "execution_count": 42,
   "metadata": {},
   "outputs": [
    {
     "data": {
      "text/plain": [
       "(1, 2, 3, 4)"
      ]
     },
     "execution_count": 42,
     "metadata": {},
     "output_type": "execute_result"
    }
   ],
   "source": [
    "v=vector([1,2,3,4]) #vecteur\n",
    "v"
   ]
  },
  {
   "cell_type": "code",
   "execution_count": 43,
   "metadata": {},
   "outputs": [
    {
     "data": {
      "text/plain": [
       "[1 2 3 4]"
      ]
     },
     "execution_count": 43,
     "metadata": {},
     "output_type": "execute_result"
    }
   ],
   "source": [
    "L=matrix(v) #matrice ligne correspondante\n",
    "L"
   ]
  },
  {
   "cell_type": "code",
   "execution_count": 44,
   "metadata": {},
   "outputs": [
    {
     "data": {
      "text/plain": [
       "[1]\n",
       "[2]\n",
       "[3]\n",
       "[4]"
      ]
     },
     "execution_count": 44,
     "metadata": {},
     "output_type": "execute_result"
    }
   ],
   "source": [
    "C=L.transpose() #renvoie la matrice colonne correspondante\n",
    "C"
   ]
  },
  {
   "cell_type": "code",
   "execution_count": 45,
   "metadata": {},
   "outputs": [
    {
     "name": "stdout",
     "output_type": "stream",
     "text": [
      "La matrice A  est :\n"
     ]
    },
    {
     "data": {
      "text/html": [
       "<html><script type=\"math/tex; mode=display\">\\newcommand{\\Bold}[1]{\\mathbf{#1}}\\left(\\begin{array}{rr}\n",
       "1 & 2 \\\\\n",
       "3 & 4\n",
       "\\end{array}\\right)</script></html>"
      ],
      "text/plain": [
       "[1 2]\n",
       "[3 4]"
      ]
     },
     "metadata": {},
     "output_type": "display_data"
    },
    {
     "name": "stdout",
     "output_type": "stream",
     "text": [
      "La matrice B  est :\n"
     ]
    },
    {
     "data": {
      "text/html": [
       "<html><script type=\"math/tex; mode=display\">\\newcommand{\\Bold}[1]{\\mathbf{#1}}\\left(\\begin{array}{rr}\n",
       "7 & 2 \\\\\n",
       "3 & 4\n",
       "\\end{array}\\right)</script></html>"
      ],
      "text/plain": [
       "[7 2]\n",
       "[3 4]"
      ]
     },
     "metadata": {},
     "output_type": "display_data"
    },
    {
     "name": "stdout",
     "output_type": "stream",
     "text": [
      "La matrice A  est :\n"
     ]
    },
    {
     "data": {
      "text/html": [
       "<html><script type=\"math/tex; mode=display\">\\newcommand{\\Bold}[1]{\\mathbf{#1}}\\left(\\begin{array}{rr}\n",
       "7 & 2 \\\\\n",
       "3 & 4\n",
       "\\end{array}\\right)</script></html>"
      ],
      "text/plain": [
       "[7 2]\n",
       "[3 4]"
      ]
     },
     "metadata": {},
     "output_type": "display_data"
    }
   ],
   "source": [
    "#REMARQUE\n",
    "\n",
    "A=matrix([[1,2],[3,4]])\n",
    "print(\"La matrice A  est :\")\n",
    "show(A)\n",
    "B=A\n",
    "A[0,0]=7  #modification sur A\n",
    "\n",
    "print(\"La matrice B  est :\")\n",
    "show(B)\n",
    "print(\"La matrice A  est :\")\n",
    "show(A)"
   ]
  },
  {
   "cell_type": "markdown",
   "metadata": {},
   "source": [
    "Qu'est-ce que vous remarquez ?\n",
    "\n",
    "Si on modifie la matrice  A , la matrice  B  est aussi modifiée!\n",
    "\n",
    "POURQUOI ?\n",
    "\n",
    "A  ne contient pas les coefficients de la matrice, mais l'adresse où ils sont stockés. Comme  A  et  B  pointent vers la même zone qui a été modifiée, les deux matrices  A  et  B  sont modifiées.\n",
    "\n",
    "Pour pouvoir définir une copie de  A  avec une nouvelle adresse mais les mêmes coefficients, on écrit `B = copy(A)`. \n",
    "Les modifications sur  A  ne changeront pas  B."
   ]
  },
  {
   "cell_type": "code",
   "execution_count": 1,
   "metadata": {},
   "outputs": [
    {
     "name": "stdout",
     "output_type": "stream",
     "text": [
      "La matrice A  est :\n"
     ]
    },
    {
     "data": {
      "text/html": [
       "<html><script type=\"math/tex; mode=display\">\\newcommand{\\Bold}[1]{\\mathbf{#1}}\\left(\\begin{array}{rr}\n",
       "1 & 2 \\\\\n",
       "3 & 4\n",
       "\\end{array}\\right)</script></html>"
      ],
      "text/plain": [
       "[1 2]\n",
       "[3 4]"
      ]
     },
     "metadata": {},
     "output_type": "display_data"
    },
    {
     "name": "stdout",
     "output_type": "stream",
     "text": [
      "La matrice B  est :\n"
     ]
    },
    {
     "data": {
      "text/html": [
       "<html><script type=\"math/tex; mode=display\">\\newcommand{\\Bold}[1]{\\mathbf{#1}}\\left(\\begin{array}{rr}\n",
       "1 & 2 \\\\\n",
       "3 & 4\n",
       "\\end{array}\\right)</script></html>"
      ],
      "text/plain": [
       "[1 2]\n",
       "[3 4]"
      ]
     },
     "metadata": {},
     "output_type": "display_data"
    },
    {
     "name": "stdout",
     "output_type": "stream",
     "text": [
      "La matrice A  est :\n"
     ]
    },
    {
     "data": {
      "text/html": [
       "<html><script type=\"math/tex; mode=display\">\\newcommand{\\Bold}[1]{\\mathbf{#1}}\\left(\\begin{array}{rr}\n",
       "7 & 2 \\\\\n",
       "3 & 4\n",
       "\\end{array}\\right)</script></html>"
      ],
      "text/plain": [
       "[7 2]\n",
       "[3 4]"
      ]
     },
     "metadata": {},
     "output_type": "display_data"
    }
   ],
   "source": [
    "A=matrix([[1,2],[3,4]])\n",
    "print(\"La matrice A  est :\")\n",
    "show(A)\n",
    "B=copy(A)\n",
    "A[0,0]=7  #modification sur A\n",
    "\n",
    "print(\"La matrice B  est :\")\n",
    "show(B)\n",
    "print(\"La matrice A  est :\")\n",
    "show(A)"
   ]
  },
  {
   "cell_type": "markdown",
   "metadata": {},
   "source": [
    "# Exercice 4"
   ]
  },
  {
   "cell_type": "markdown",
   "metadata": {},
   "source": [
    "Soit les matrices :\n",
    "\n",
    "$$A=\\left[\\begin{matrix}1 & 2 & 3\\\\ -1 & 0 & 1 \\\\ 0 & 1 & 0\\\\ \\end{matrix}\\right], \\quad B=\\left[\\begin{matrix}2 & -1 & 0 \\\\ -1 & 0 & 1 \\\\ \\end{matrix}\\right], \\quad u=\\left[\\begin{matrix}1 \\\\ x \\\\x^2 \\end{matrix}\\right] , \\quad \\quad v=\\left[\\begin{matrix}1 \\\\ 0 \\\\ 1\\\\\\end{matrix}\\right]$$\n",
    "\n",
    "a) Calculer tous les produits possibles à partir de  $A ,  B , u ,  v$ \n"
   ]
  },
  {
   "cell_type": "code",
   "execution_count": 49,
   "metadata": {},
   "outputs": [
    {
     "name": "stdout",
     "output_type": "stream",
     "text": [
      "Il y a 5 produits possibles\n",
      " [ 3  4  5]\n",
      "[-1 -1 -3] [3*x^2 + 2*x + 2]\n",
      "[        x^2 - 2]\n",
      "[              x] [4]\n",
      "[0]\n",
      "[0] [ -x + 4]\n",
      "[x^2 - 2] [2]\n",
      "[0]\n"
     ]
    }
   ],
   "source": [
    "# a)\n",
    "#je définis les matrices : \n",
    "var('x')\n",
    "A=matrix([[1,2,3],[-1,0,1],[0,1,0]])\n",
    "B=matrix([[2,-1,0],[-1,0,1]])\n",
    "u=matrix([[2],[x],[x**2]])\n",
    "v=matrix([[1],[0],[1]])\n",
    "#B*A\n",
    "#A*u\n",
    "#A*v\n",
    "B*u\n",
    "B*v\n",
    "print('Il y a 5 produits possibles\\n',B*A,A*u,A*v,B*u,B*v)"
   ]
  },
  {
   "cell_type": "markdown",
   "metadata": {},
   "source": [
    "b) Calculer  $(A−I)^7$  et en extraire le coefficient en position  $(2,3)$."
   ]
  },
  {
   "cell_type": "code",
   "execution_count": 50,
   "metadata": {},
   "outputs": [
    {
     "data": {
      "text/plain": [
       "1"
      ]
     },
     "execution_count": 50,
     "metadata": {},
     "output_type": "execute_result"
    }
   ],
   "source": [
    "# b)\n",
    "(A-1)**7\n",
    "A[1,2]#c'est 1 et 2 comme coordonnées car pour sage une matrice de taille  n les indices varient de  0 à  n−1"
   ]
  },
  {
   "cell_type": "markdown",
   "metadata": {},
   "source": [
    "$c)$ Calculer $A^{-1}$"
   ]
  },
  {
   "cell_type": "code",
   "execution_count": 51,
   "metadata": {},
   "outputs": [
    {
     "data": {
      "text/plain": [
       "[ 1/4 -3/4 -1/2]\n",
       "[   0    0    1]\n",
       "[ 1/4  1/4 -1/2]"
      ]
     },
     "execution_count": 51,
     "metadata": {},
     "output_type": "execute_result"
    }
   ],
   "source": [
    "# c)\n",
    "A^-1"
   ]
  },
  {
   "cell_type": "markdown",
   "metadata": {},
   "source": [
    "d) Faire une copie de la matrice $A$ et remplacer tous les nombres $1$ par $9$."
   ]
  },
  {
   "cell_type": "code",
   "execution_count": 52,
   "metadata": {},
   "outputs": [
    {
     "data": {
      "text/plain": [
       "[ 9  2  3]\n",
       "[-1  0  9]\n",
       "[ 0  9  0]"
      ]
     },
     "execution_count": 52,
     "metadata": {},
     "output_type": "execute_result"
    }
   ],
   "source": [
    "# d)\n",
    "C=copy(A)\n",
    "for i in range(0,3):\n",
    "    for j in range(0,3):\n",
    "        if(C[i,j]==1):\n",
    "            C[i,j]=9\n",
    "C"
   ]
  },
  {
   "cell_type": "markdown",
   "metadata": {},
   "source": [
    "# Exercice 5"
   ]
  },
  {
   "cell_type": "markdown",
   "metadata": {},
   "source": [
    "Calculer le déterminant des matrices suivantes :\n",
    "\n",
    "$$A=\\left[\\begin{matrix} -11 & 3 \\\\ 1 & 0\\\\ \\end{matrix}\\right], \\quad B=\\left[\\begin{matrix}10 & 0 & -5 & 15\\\\-2 & 7 & 3 & 0\\\\8 & 14 & 0 & 2\\\\0 & -21 & 1 & -1\\\\\\end{matrix}\\right], \\quad C=\\left[\\begin{matrix}m & 0 & 1 & 2m\\\\1 & m & 0 & 0\\\\0 & 2m+2 & m & 1\\\\m & 0 & 0 & m\\\\\\end{matrix}\\right]$$"
   ]
  },
  {
   "cell_type": "code",
   "execution_count": 53,
   "metadata": {},
   "outputs": [],
   "source": [
    "#Definition des matrices A,B et C\n",
    "var('m')\n",
    "A=matrix([[-11,3],[1,0]])\n",
    "B=matrix([[10,0,-5,15],[-2,7,3,0],[8,14,0,2],[0,-21,1,-1]])\n",
    "u=matrix([[m,0,1,2*m],[1,m,0,0],[0,2*m+2,m,1],[m,0,0,m]])"
   ]
  },
  {
   "cell_type": "code",
   "execution_count": 54,
   "metadata": {},
   "outputs": [
    {
     "data": {
      "text/plain": [
       "-3"
      ]
     },
     "execution_count": 54,
     "metadata": {},
     "output_type": "execute_result"
    }
   ],
   "source": [
    "# A\n",
    "det(A)"
   ]
  },
  {
   "cell_type": "code",
   "execution_count": 55,
   "metadata": {},
   "outputs": [
    {
     "data": {
      "text/plain": [
       "7840"
      ]
     },
     "execution_count": 55,
     "metadata": {},
     "output_type": "execute_result"
    }
   ],
   "source": [
    "# B\n",
    "det(B)"
   ]
  },
  {
   "cell_type": "code",
   "execution_count": 56,
   "metadata": {},
   "outputs": [
    {
     "data": {
      "text/plain": [
       "-756"
      ]
     },
     "execution_count": 56,
     "metadata": {},
     "output_type": "execute_result"
    }
   ],
   "source": [
    "# C\n",
    "det(C)"
   ]
  },
  {
   "cell_type": "markdown",
   "metadata": {},
   "source": [
    "# Exercice 6"
   ]
  },
  {
   "cell_type": "markdown",
   "metadata": {},
   "source": [
    "Construire, de manière judicieuse, les matrices suivantes :\n",
    "\n",
    "$$A=\\left[\\begin{matrix}1 & 0 & 0 & 0 & 0 & 0 & 0\\\\0 & 2 & 0 & 0 & 0 & 0 & 0\\\\0 & 0 & 3 & 0 & 0 & 0 & 0\\\\0 & 0 & 0 & 4 & 0 & 0 & 0\\\\0 & 0 & 0 & 0 & 5 & 0 & 0\\\\0 & 0 & 0 & 0 & 0 & 6 & 0\\\\0 & 0 & 0 & 0 & 0 & 0 & 7\\\\\\end{matrix}\\right], \\quad B=\\left[\\begin{matrix} 1 & 0 & 0 & 0 & 0 & 0 & 0 & 0 & 0 \\\\1 & 0 & 0 & 0 & 0 & 0 & 0 & 0& 0 \\\\ 1 & 0 & 0 & 0 & 0 & 0 & 0 & 0& 0 \\\\1 & 0 & 0 & 0 & 0 & 0 & 0 & 0& 0 \\\\\\end{matrix}\\right], \\quad C=\\left[\\begin{matrix}2 & 1 & -1 & -1 & -1 \\\\2 & 2 & -1 & -1 & -1 \\\\2 & 3 & -1 & -1 & -1 \\\\\\end{matrix}\\right]$$\n",
    "\n",
    "$Suggestions :$ `diagonal_matrix`, boucles, `help(matrix)`"
   ]
  },
  {
   "cell_type": "code",
   "execution_count": 57,
   "metadata": {},
   "outputs": [
    {
     "data": {
      "text/plain": [
       "[1 0 0 0 0 0 0]\n",
       "[0 2 0 0 0 0 0]\n",
       "[0 0 3 0 0 0 0]\n",
       "[0 0 0 4 0 0 0]\n",
       "[0 0 0 0 5 0 0]\n",
       "[0 0 0 0 0 6 0]\n",
       "[0 0 0 0 0 0 7]"
      ]
     },
     "execution_count": 57,
     "metadata": {},
     "output_type": "execute_result"
    }
   ],
   "source": [
    "#A\n",
    "entrées=[1,2,3,4,5,6,7]\n",
    "nrows=7\n",
    "A=diagonal_matrix(nrows, entrées) \n",
    "A"
   ]
  },
  {
   "cell_type": "code",
   "execution_count": 58,
   "metadata": {},
   "outputs": [
    {
     "data": {
      "text/plain": [
       "[1 0 0 0 0 0 0 0 0]\n",
       "[1 0 0 0 0 0 0 0 0]\n",
       "[1 0 0 0 0 0 0 0 0]\n",
       "[1 0 0 0 0 0 0 0 0]"
      ]
     },
     "execution_count": 58,
     "metadata": {},
     "output_type": "execute_result"
    }
   ],
   "source": [
    "# B\n",
    "B=matrix(4,9)\n",
    "for i in range(4):\n",
    "    B[i,0]=1\n",
    "B"
   ]
  },
  {
   "cell_type": "code",
   "execution_count": null,
   "metadata": {},
   "outputs": [],
   "source": [
    "# C\n"
   ]
  },
  {
   "cell_type": "markdown",
   "metadata": {},
   "source": [
    "# Exercice 7"
   ]
  },
  {
   "cell_type": "markdown",
   "metadata": {},
   "source": [
    "Définir <u>votre propre fonction</u> \"produit de deux matrices\". <b>Ne pas utiliser la commande A*B</b>\n",
    "\n",
    "Elle s'appellera `prod_Mat`, elle prendra en entrée deux matrices  $(A,B)$  et elle retournera le produit  $(A⋅B)$ .\n",
    "\n",
    "Commentez votre code en expliquant ce que vous implementez.\n"
   ]
  },
  {
   "cell_type": "code",
   "execution_count": 46,
   "metadata": {},
   "outputs": [],
   "source": [
    "# Définition prod_Mat"
   ]
  },
  {
   "cell_type": "markdown",
   "metadata": {},
   "source": [
    "Tester votre fonction pour les produits  $A⋅B$ ,  $B⋅A$ ,  $B⋅C$  et  $C⋅B$ , où  $A,B,C$  sont les matrices suivantes :\n",
    "\n",
    "\n",
    "$$A=\\left[\\begin{matrix}1 & -1&  1\\\\2 & 1 & 3\\\\0 & 2 & 0\\\\\\end{matrix}\\right], \\quad B=\\left[\\begin{matrix}-1 & 0&  2\\\\ 0 & 1&  1\\\\ -1 & 1&  1\\\\ \\end{matrix}\\right], \\quad C=\\left[\\begin{matrix}1 & 3 \\\\2 & 4 \\\\ 0 & 1 \\\\\\end{matrix}\\right]$$\n",
    "\n",
    "Vérifier vos calculs avec le produit de matrices de Sagemath."
   ]
  },
  {
   "cell_type": "code",
   "execution_count": null,
   "metadata": {},
   "outputs": [],
   "source": [
    "# Application"
   ]
  },
  {
   "cell_type": "markdown",
   "metadata": {},
   "source": [
    "# Images et matrices"
   ]
  },
  {
   "cell_type": "markdown",
   "metadata": {},
   "source": [
    "Les matrices peuvent être utilisées pour représenter des <a href=https://fr.wikipedia.org/wiki/Image_matricielle>images matricielles</a>.\n",
    "\n",
    "Avec Sagemath, nous pouvons utiliser les matrices comme des objets graphiques en utilisant la commande `matrix_plot`.\n",
    "\n",
    "Cette commande permet d'associer à chaque élément de la matrice une couleur. \n",
    "Par defaut l'échelle est en noir et blanc.\n",
    "\n",
    "Voir `help(matrix_plot)` pour les différentes options."
   ]
  },
  {
   "cell_type": "code",
   "execution_count": 3,
   "metadata": {},
   "outputs": [
    {
     "data": {
      "text/html": [
       "<html><script type=\"math/tex; mode=display\">\\newcommand{\\Bold}[1]{\\mathbf{#1}}\\left(\\begin{array}{rr}\n",
       "0.000000000000000 & 0.300000000000000 \\\\\n",
       "0.600000000000000 & 1.00000000000000\n",
       "\\end{array}\\right)</script></html>"
      ],
      "text/plain": [
       "[0.000000000000000 0.300000000000000]\n",
       "[0.600000000000000  1.00000000000000]"
      ]
     },
     "metadata": {},
     "output_type": "display_data"
    },
    {
     "data": {
      "image/png": "[encoded data removed]",
      "text/plain": [
       "Graphics object consisting of 1 graphics primitive"
      ]
     },
     "execution_count": 3,
     "metadata": {},
     "output_type": "execute_result"
    }
   ],
   "source": [
    "#EXEMPLE \n",
    "M = matrix(2,[0,0.3,0.6,1])\n",
    "show(M)                                 \n",
    "matrix_plot(M, colorbar=True)"
   ]
  },
  {
   "cell_type": "markdown",
   "metadata": {},
   "source": [
    "# Exercice 8"
   ]
  },
  {
   "cell_type": "markdown",
   "metadata": {},
   "source": [
    "En utilisant `matrix_plot` et les opérations sur les matrices, reproduire les quatres figures suivantes :\n",
    "<img src=\"m10.png\">\n"
   ]
  },
  {
   "cell_type": "code",
   "execution_count": 5,
   "metadata": {},
   "outputs": [],
   "source": [
    "#Matrice 1"
   ]
  },
  {
   "cell_type": "markdown",
   "metadata": {},
   "source": [
    "<img src=\"m10_2.png\">"
   ]
  },
  {
   "cell_type": "code",
   "execution_count": 6,
   "metadata": {},
   "outputs": [],
   "source": [
    "#Matrice 2"
   ]
  },
  {
   "cell_type": "markdown",
   "metadata": {},
   "source": [
    "<img src=\"m100.png\">"
   ]
  },
  {
   "cell_type": "code",
   "execution_count": 7,
   "metadata": {},
   "outputs": [],
   "source": [
    "#Matrice 3"
   ]
  },
  {
   "cell_type": "markdown",
   "metadata": {},
   "source": [
    "<img src=\"m100_2.png\">"
   ]
  },
  {
   "cell_type": "code",
   "execution_count": 8,
   "metadata": {},
   "outputs": [],
   "source": [
    "#Matrice 4"
   ]
  },
  {
   "cell_type": "markdown",
   "metadata": {},
   "source": [
    "# Exercice 9"
   ]
  },
  {
   "cell_type": "markdown",
   "metadata": {},
   "source": [
    "Amusez-vous avec la commande <b>matrix_plot</b> pour obtenir des jolies figures, même en couleurs.\n",
    "\n",
    "Inspirez-vous des <a href=\"https://www.google.com/search?q=pixel+art&tbm=isch&ved=2ahUKEwiPtIvlxe3nAhUO_IUKHUhzBzcQ2-cCegQIABAA&oq=pixel&gs_l=img.1.0.0i67l10.16537.16537..17882...0.0..0.51.51.1......0....1..gws-wiz-img.o9OHrP0JPx0&ei=84NVXs9ujviXBMjmnbgD%3E\" target=\"_blank\">\"pixel art\"</a> ou encore mieux, de <a href=\"https://www.google.com/search?q=pixel+pixar+art&tbm=isch&ved=2ahUKEwih6oOoye3nAhUJ9BoKHW_KAy8Q2-cCegQIABAA&oq=pixel+pixar+art&gs_l=img.3..35i39j0i8i30l4.13473.13859..14268...0.0..0.50.185.4......0....1..gws-wiz-img.......0i30.DcVgza15C1Q&ei=pIdVXqGIK4noa--Uj_gC\" target=\"_blank\">\"Pixar pixel art\"</a> ou utilisez votre fantaisie ! \n",
    "\n",
    "Nous publierons sur les reseaux sociaux de l'ISEN, et aussi aux journées portes ouvertes, vos plus belles représentations!"
   ]
  },
  {
   "cell_type": "code",
   "execution_count": null,
   "metadata": {},
   "outputs": [],
   "source": []
  }
 ],
 "metadata": {
  "kernelspec": {
   "display_name": "SageMath 9.1",
   "language": "sage",
   "name": "sagemath"
  },
  "language_info": {
   "codemirror_mode": {
    "name": "ipython",
    "version": 3
   },
   "file_extension": ".py",
   "mimetype": "text/x-python",
   "name": "python",
   "nbconvert_exporter": "python",
   "pygments_lexer": "ipython3",
   "version": "3.7.3"
  }
 },
 "nbformat": 4,
 "nbformat_minor": 1
}
