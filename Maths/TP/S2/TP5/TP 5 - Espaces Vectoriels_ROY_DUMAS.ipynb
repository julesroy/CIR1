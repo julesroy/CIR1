{
 "cells": [
  {
   "cell_type": "markdown",
   "metadata": {},
   "source": [
    "# TP 5 : Espaces vectoriels"
   ]
  },
  {
   "cell_type": "markdown",
   "metadata": {},
   "source": [
    "Consignes :\n",
    "\n",
    "- TP à faire par groupes de 2. Le groupe de travail sera le même pour toute l'année.\n",
    "- Renommer ce fichier <b>nom1-nom2-TP5</b> , en cliquant sur le titre du fichier \"TP 5 - Espaces vectoriels\" en haut à gauche\n",
    "- TP à rendre dans le devoir Teams à la <b>fin de la séance</b>.\n",
    "\n",
    "- <u>Votre rendu doit contenir des explications. Les notebook avec blocs de code sans aucun contexte seront penalisées.</u>\n",
    "\n",
    "\n",
    "  Cliquer deux fois sur la cellule pour completer ci-dessous :\n",
    "\n",
    "- NOM PRENOM : \n",
    "- NOM PRENOM :"
   ]
  },
  {
   "cell_type": "markdown",
   "metadata": {},
   "source": [
    "  <u><i> Prenez le temps de réviser les concepts liés aux matrices, vecteurs, systèmes d'équations linéaires, ... des séances de TP précédentes. </i> </u>"
   ]
  },
  {
   "cell_type": "markdown",
   "metadata": {},
   "source": [
    "# Exercice 1 : Interpolation polynomiale"
   ]
  },
  {
   "cell_type": "markdown",
   "metadata": {},
   "source": [
    "Considérons le problème suivant: on cherche un polynôme  $P(X)$  à coefficients réels dont le graphe passe par les points\n",
    "\n",
    "$$ (1,4), \\ (2,-1), \\ (3,2), \\ (4,3), \\ (5, 1). $$\n",
    " \n",
    "a) Soit  $V $ l'espace vectoriel des polynômes de degré  $\\leq 4$ et $f: V \\to \\mathbb{R}^5$   l'application linéaire définie par\n",
    "\n",
    "$$ f(P) = (P(1), P(2), P(3), P(4), P(5)) $$\n",
    " \n",
    "Construire informatiquement une matrice  $A$  représentant  $f$  en calculant tout d'abord  $f(1), \\ f(X), \\ f(X^2), \\ f(X^3), \\ f(X^4).$\n",
    "\n"
   ]
  },
  {
   "cell_type": "code",
   "execution_count": 70,
   "metadata": {},
   "outputs": [
    {
     "data": {
      "text/html": [
       "<html><script type=\"math/tex; mode=display\">\\newcommand{\\Bold}[1]{\\mathbf{#1}}\\left(\\begin{array}{rrrrr}\n",
       "1 & 1 & 1 & 1 & 1 \\\\\n",
       "1 & 2 & 4 & 8 & 16 \\\\\n",
       "1 & 3 & 9 & 27 & 81 \\\\\n",
       "1 & 4 & 16 & 64 & 256 \\\\\n",
       "1 & 5 & 25 & 125 & 625\n",
       "\\end{array}\\right)</script></html>"
      ],
      "text/plain": [
       "[  1   1   1   1   1]\n",
       "[  1   2   4   8  16]\n",
       "[  1   3   9  27  81]\n",
       "[  1   4  16  64 256]\n",
       "[  1   5  25 125 625]"
      ]
     },
     "metadata": {},
     "output_type": "display_data"
    },
    {
     "data": {
      "text/html": [
       "<html><script type=\"math/tex; mode=display\">\\newcommand{\\Bold}[1]{\\mathbf{#1}}\\left(\\begin{array}{rrrrr}\n",
       "1 & 1 & 1 & 1 & 1 \\\\\n",
       "1 & 2 & 4 & 8 & 16 \\\\\n",
       "1 & 3 & 9 & 27 & 81 \\\\\n",
       "1 & 4 & 16 & 64 & 256 \\\\\n",
       "1 & 5 & 25 & 125 & 625\n",
       "\\end{array}\\right) \\left(\\begin{array}{r}\n",
       "a \\\\\n",
       "b \\\\\n",
       "c \\\\\n",
       "d \\\\\n",
       "e\n",
       "\\end{array}\\right) \\verb|=| \\left(\\begin{array}{r}\n",
       "a + b + c + d + e \\\\\n",
       "a + 2 \\, b + 4 \\, c + 8 \\, d + 16 \\, e \\\\\n",
       "a + 3 \\, b + 9 \\, c + 27 \\, d + 81 \\, e \\\\\n",
       "a + 4 \\, b + 16 \\, c + 64 \\, d + 256 \\, e \\\\\n",
       "a + 5 \\, b + 25 \\, c + 125 \\, d + 625 \\, e\n",
       "\\end{array}\\right)</script></html>"
      ],
      "text/plain": [
       "[  1   1   1   1   1]\n",
       "[  1   2   4   8  16]\n",
       "[  1   3   9  27  81]\n",
       "[  1   4  16  64 256]\n",
       "[  1   5  25 125 625] [a]\n",
       "[b]\n",
       "[c]\n",
       "[d]\n",
       "[e] '=' [             a + b + c + d + e]\n",
       "[    a + 2*b + 4*c + 8*d + 16*e]\n",
       "[   a + 3*b + 9*c + 27*d + 81*e]\n",
       "[ a + 4*b + 16*c + 64*d + 256*e]\n",
       "[a + 5*b + 25*c + 125*d + 625*e]"
      ]
     },
     "metadata": {},
     "output_type": "display_data"
    },
    {
     "data": {
      "text/html": [
       "<html><script type=\"math/tex; mode=display\">\\newcommand{\\Bold}[1]{\\mathbf{#1}}\\left(\\begin{array}{rrrrr}\n",
       "1 & 1 & 1 & 1 & 1 \\\\\n",
       "1 & 2 & 4 & 8 & 16 \\\\\n",
       "1 & 3 & 9 & 27 & 81 \\\\\n",
       "1 & 4 & 16 & 64 & 256 \\\\\n",
       "1 & 5 & 25 & 125 & 625\n",
       "\\end{array}\\right)</script></html>"
      ],
      "text/plain": [
       "[  1   1   1   1   1]\n",
       "[  1   2   4   8  16]\n",
       "[  1   3   9  27  81]\n",
       "[  1   4  16  64 256]\n",
       "[  1   5  25 125 625]"
      ]
     },
     "metadata": {},
     "output_type": "display_data"
    }
   ],
   "source": [
    "A=matrix([[1,1,1,1,1],\n",
    "         [1,2,4,8,16],\n",
    "         [1,3,9,27,81],\n",
    "         [1,4,16,64,256],\n",
    "         [1,5,25,125,625]])\n",
    "show(A)\n",
    "var('a')\n",
    "var('b')\n",
    "var('c')\n",
    "var('d')\n",
    "var('e')\n",
    "V=matrix([[a],[b],[c],[d],[e]])\n",
    "f=A*V\n",
    "show(A,V,\"=\",f)\n",
    "def matriceA(x):\n",
    "    valeurs = [1, 2, 3, 4, 5] #valeurs des abscisses des points donnés dans l'énoncé\n",
    "    matrice = [] #liste qui contiendra des listes représentants les lignes\n",
    "    for i in range(x):\n",
    "        ligne = [] \n",
    "        for j in range(x):\n",
    "            ligne.append(valeurs[i]^j)\n",
    "        matrice.append(ligne) #on ajoute la ligne a la matrice\n",
    "    show(Matrix(matrice))\n",
    "    #on convertit la liste matrice en Matrice et on l'affiche\n",
    "C=matriceA(5)\n",
    "#C.transpose()"
   ]
  },
  {
   "cell_type": "markdown",
   "metadata": {},
   "source": [
    "b) Vérifier la validité de votre matrice  $A$  de la question précédente en l'utilisant pour calculer  $f(Q)$  et $ f(R)$  avec  $Q(X) = X^3 - X + 1$ et $R(X) = 2X^4 - 1$  (et vérifiez que vous obtenez bien les bonnes réponses !)."
   ]
  },
  {
   "cell_type": "code",
   "execution_count": 71,
   "metadata": {},
   "outputs": [
    {
     "data": {
      "text/html": [
       "<html><script type=\"math/tex; mode=display\">\\newcommand{\\Bold}[1]{\\mathbf{#1}}\\left(\\begin{array}{r}\n",
       "1 \\\\\n",
       "7 \\\\\n",
       "25 \\\\\n",
       "61 \\\\\n",
       "121\n",
       "\\end{array}\\right)</script></html>"
      ],
      "text/plain": [
       "[  1]\n",
       "[  7]\n",
       "[ 25]\n",
       "[ 61]\n",
       "[121]"
      ]
     },
     "metadata": {},
     "output_type": "display_data"
    },
    {
     "data": {
      "text/html": [
       "<html><script type=\"math/tex; mode=display\">\\newcommand{\\Bold}[1]{\\mathbf{#1}}\\left(\\begin{array}{r}\n",
       "1 \\\\\n",
       "31 \\\\\n",
       "161 \\\\\n",
       "511 \\\\\n",
       "1249\n",
       "\\end{array}\\right)</script></html>"
      ],
      "text/plain": [
       "[   1]\n",
       "[  31]\n",
       "[ 161]\n",
       "[ 511]\n",
       "[1249]"
      ]
     },
     "metadata": {},
     "output_type": "display_data"
    }
   ],
   "source": [
    "var('x')\n",
    "Q(x)=x**3-x+1\n",
    "R(x)=2*x**4-1\n",
    "QM=Matrix([[1],[-1],[0],[1],[0]])\n",
    "RM=Matrix([[-1],[0],[0],[0],[2]])\n",
    "show(A*QM)\n",
    "show(A*RM)"
   ]
  },
  {
   "cell_type": "markdown",
   "metadata": {},
   "source": [
    "c) Pour revenir à la question initiale: convainquez-vous que  $f$  est bijective en remarquant que  $A$  est inversible, et déterminez  $f^{-1}(4,-1,2,3,1)$ en utilisant $A^{-1}$."
   ]
  },
  {
   "cell_type": "code",
   "execution_count": 66,
   "metadata": {},
   "outputs": [
    {
     "data": {
      "text/html": [
       "<html><script type=\"math/tex; mode=display\">\\newcommand{\\Bold}[1]{\\mathbf{#1}}\\left(\\begin{array}{rrrrr}\n",
       "1 & 1 & 1 & 1 & 1 \\\\\n",
       "1 & 2 & 4 & 8 & 16 \\\\\n",
       "1 & 3 & 9 & 27 & 81 \\\\\n",
       "1 & 4 & 16 & 64 & 256 \\\\\n",
       "1 & 5 & 25 & 125 & 625\n",
       "\\end{array}\\right)</script></html>"
      ],
      "text/plain": [
       "[  1   1   1   1   1]\n",
       "[  1   2   4   8  16]\n",
       "[  1   3   9  27  81]\n",
       "[  1   4  16  64 256]\n",
       "[  1   5  25 125 625]"
      ]
     },
     "metadata": {},
     "output_type": "display_data"
    },
    {
     "data": {
      "text/html": [
       "<html><script type=\"math/tex; mode=display\">\\newcommand{\\Bold}[1]{\\mathbf{#1}}\\left(\\begin{array}{rrrrr}\n",
       "5 & -10 & 10 & -5 & 1 \\\\\n",
       "-\\frac{77}{12} & \\frac{107}{6} & -\\frac{39}{2} & \\frac{61}{6} & -\\frac{25}{12} \\\\\n",
       "\\frac{71}{24} & -\\frac{59}{6} & \\frac{49}{4} & -\\frac{41}{6} & \\frac{35}{24} \\\\\n",
       "-\\frac{7}{12} & \\frac{13}{6} & -3 & \\frac{11}{6} & -\\frac{5}{12} \\\\\n",
       "\\frac{1}{24} & -\\frac{1}{6} & \\frac{1}{4} & -\\frac{1}{6} & \\frac{1}{24}\n",
       "\\end{array}\\right)</script></html>"
      ],
      "text/plain": [
       "[     5    -10     10     -5      1]\n",
       "[-77/12  107/6  -39/2   61/6 -25/12]\n",
       "[ 71/24  -59/6   49/4  -41/6  35/24]\n",
       "[ -7/12   13/6     -3   11/6  -5/12]\n",
       "[  1/24   -1/6    1/4   -1/6   1/24]"
      ]
     },
     "metadata": {},
     "output_type": "display_data"
    }
   ],
   "source": [
    "A=matrix([[1,1,1,1,1],\n",
    "         [1,2,4,8,16],\n",
    "         [1,3,9,27,81],\n",
    "         [1,4,16,64,256],\n",
    "         [1,5,25,125,625]])\n",
    "show(A)\n",
    "det(A)\n",
    "#Le determinant de A est non-nul donc A est inversible\n",
    "#Une application linéaire f : R^n → R^n est bijective si et seulement si sa matriceassociée A = Mat(f) ∈ Mn(R) est inversible\n",
    "# Donc f est bijective car A est inversible\n",
    "B=A.inverse()\n",
    "show(B)\n"
   ]
  },
  {
   "cell_type": "markdown",
   "metadata": {},
   "source": [
    "d) Représenter sur une même figure: le graphe du polynôme  $P$  obtenu à la question précédente ainsi que les  $5 $ points $(1,4), (2,-1), (3,2), (4,3), (5, 1)$  pour vérifier que  $P$  passe bien par ceux-ci.\n"
   ]
  },
  {
   "cell_type": "code",
   "execution_count": null,
   "metadata": {},
   "outputs": [],
   "source": []
  },
  {
   "cell_type": "markdown",
   "metadata": {},
   "source": [
    "# Exercice 2 : Intérpolation d'Hermite"
   ]
  },
  {
   "cell_type": "markdown",
   "metadata": {},
   "source": [
    "Encore un problème où on cherche un polynôme: on cherche cette fois-ci un polynôme  $P$  de degré  $\\leq 3$  pour lequel\n",
    "\n",
    "$$P(0)=1, P′(0)=−2, P(1)=4, P′(1)=2$$\n",
    " \n",
    "a) Donner une représentation matricielle de l'application $P \\mapsto (P(0), P'(0), P(1), P'(1))$."
   ]
  },
  {
   "cell_type": "code",
   "execution_count": 4,
   "metadata": {},
   "outputs": [
    {
     "data": {
      "text/html": [
       "<html><script type=\"math/tex; mode=display\">\\newcommand{\\Bold}[1]{\\mathbf{#1}}\\left(\\begin{array}{rrrr}\n",
       "1 & 0 & 0 & 0 \\\\\n",
       "0 & 1 & 0 & 0 \\\\\n",
       "1 & 1 & 1 & 1 \\\\\n",
       "0 & 1 & 2 & 3\n",
       "\\end{array}\\right)</script></html>"
      ],
      "text/plain": [
       "[1 0 0 0]\n",
       "[0 1 0 0]\n",
       "[1 1 1 1]\n",
       "[0 1 2 3]"
      ]
     },
     "metadata": {},
     "output_type": "display_data"
    }
   ],
   "source": [
    "A = Matrix([[1,0,1,0], #Creation de la matrice\n",
    "            [0,1,1,1],\n",
    "            [0,0,1,2],\n",
    "            [0,0,1,3]])\n",
    "\n",
    "show(transpose(A)) # Affichage matrice \n",
    "A = transpose(A)"
   ]
  },
  {
   "cell_type": "markdown",
   "metadata": {},
   "source": [
    "b) Vérifier que votre représentation matricielle fonctionne bien en l'utilisant pour calculer l'image de   $Q(X) = X^3 + X^2 - X + 1$ et $R(X) = X^2 + 3 X$."
   ]
  },
  {
   "cell_type": "code",
   "execution_count": 5,
   "metadata": {},
   "outputs": [
    {
     "data": {
      "text/html": [
       "<html><script type=\"math/tex; mode=display\">\\newcommand{\\Bold}[1]{\\mathbf{#1}}\\left(\\begin{array}{r}\n",
       "1 \\\\\n",
       "-1 \\\\\n",
       "2 \\\\\n",
       "4\n",
       "\\end{array}\\right)</script></html>"
      ],
      "text/plain": [
       "[ 1]\n",
       "[-1]\n",
       "[ 2]\n",
       "[ 4]"
      ]
     },
     "metadata": {},
     "output_type": "display_data"
    },
    {
     "data": {
      "text/html": [
       "<html><script type=\"math/tex; mode=display\">\\newcommand{\\Bold}[1]{\\mathbf{#1}}\\left(\\begin{array}{r}\n",
       "0 \\\\\n",
       "3 \\\\\n",
       "4 \\\\\n",
       "5\n",
       "\\end{array}\\right)</script></html>"
      ],
      "text/plain": [
       "[0]\n",
       "[3]\n",
       "[4]\n",
       "[5]"
      ]
     },
     "metadata": {},
     "output_type": "display_data"
    }
   ],
   "source": [
    "QX = matrix([[1],[-1],[1],[1]])  # Creation de la matrice QX\n",
    "show(A*QX)#Affichage\n",
    "RX = matrix([[0],[3],[1],[0]])# Creation de la matrice RX\n",
    "show(A*RX) #Affichage"
   ]
  },
  {
   "cell_type": "markdown",
   "metadata": {},
   "source": [
    "c) Montrer qu'il existe un unique polynôme de degré inférieur ou égal $ 3$  satisfaisant les conditions imposées et déterminez-le."
   ]
  },
  {
   "cell_type": "code",
   "execution_count": 6,
   "metadata": {},
   "outputs": [
    {
     "name": "stdout",
     "output_type": "stream",
     "text": [
      "Le déterminant de A est :\n"
     ]
    },
    {
     "data": {
      "text/html": [
       "<html><script type=\"math/tex; mode=display\">\\newcommand{\\Bold}[1]{\\mathbf{#1}}1</script></html>"
      ],
      "text/plain": [
       "1"
      ]
     },
     "metadata": {},
     "output_type": "display_data"
    },
    {
     "name": "stdout",
     "output_type": "stream",
     "text": [
      "Le determinant de la matrice A est 1 donc la matrice A est inversible\n"
     ]
    },
    {
     "data": {
      "text/html": [
       "<html><script type=\"math/tex; mode=display\">\\newcommand{\\Bold}[1]{\\mathbf{#1}}\\left(\\begin{array}{r}\n",
       "1 \\\\\n",
       "-2 \\\\\n",
       "11 \\\\\n",
       "-6\n",
       "\\end{array}\\right)</script></html>"
      ],
      "text/plain": [
       "[ 1]\n",
       "[-2]\n",
       "[11]\n",
       "[-6]"
      ]
     },
     "metadata": {},
     "output_type": "display_data"
    },
    {
     "data": {
      "text/html": [
       "<html><script type=\"math/tex; mode=display\">\\newcommand{\\Bold}[1]{\\mathbf{#1}}\\verb|Le|\\phantom{\\verb!x!}\\verb|polynôme|\\phantom{\\verb!x!}\\verb|est|\\phantom{\\verb!x!}\\verb|-6x³|\\phantom{\\verb!x!}\\verb|+|\\phantom{\\verb!x!}\\verb|11x²|\\phantom{\\verb!x!}\\verb|-|\\phantom{\\verb!x!}\\verb|2x|\\phantom{\\verb!x!}\\verb|+|\\phantom{\\verb!x!}\\verb|1|</script></html>"
      ],
      "text/plain": [
       "'Le polynôme est -6x³ + 11x² - 2x + 1'"
      ]
     },
     "metadata": {},
     "output_type": "display_data"
    }
   ],
   "source": [
    "print(\"Le déterminant de A est :\") \n",
    "show(det(A)) #afficage du déterminant de la matrice A\n",
    "\n",
    "print(\"Le determinant de la matrice A est 1 donc la matrice A est inversible\")\n",
    "show(A.inverse()*matrix([[1],[-2],[4],[2]]))  # Je multiplie par l'inverse de la matrice \n",
    "\n",
    "show(\"Le polynôme est -6x³ + 11x² - 2x + 1\") #affichage"
   ]
  },
  {
   "cell_type": "markdown",
   "metadata": {},
   "source": [
    "d) Représentez, sur une même figure, le graphe du polynôme trouvé à la question précédente, les points  $(0,1)$  et  $(1,4)$  ainsi que ses tangentes en  $x=0$  et  $x=1$  pour vérifier la cohérence de votre réponse."
   ]
  },
  {
   "cell_type": "code",
   "execution_count": 7,
   "metadata": {},
   "outputs": [
    {
     "data": {
      "image/png": "[encoded data removed]",
      "text/plain": [
       "Graphics object consisting of 4 graphics primitives"
      ]
     },
     "execution_count": 7,
     "metadata": {},
     "output_type": "execute_result"
    }
   ],
   "source": [
    "#Representation du graphe du polynome ainsi que ses tangentes\n",
    "T(X) = -6*(X^3) + 11*(X^2) - 2*X + 1\n",
    "point([[0,1],[1,4]]) + plot(T(X), (x, -3, 3), ymin=-20, ymax=20,color='yellow') + plot(T(0), color='black') + plot(T(), (x, 0, 2), color='grey')\n",
    "# La courbe noire represente la tangente x = 0 et en gris la tangante x = 1"
   ]
  },
  {
   "cell_type": "code",
   "execution_count": null,
   "metadata": {},
   "outputs": [],
   "source": []
  },
  {
   "cell_type": "code",
   "execution_count": null,
   "metadata": {},
   "outputs": [],
   "source": []
  }
 ],
 "metadata": {
  "kernelspec": {
   "display_name": "SageMath 9.1",
   "language": "sage",
   "name": "sagemath"
  },
  "language_info": {
   "codemirror_mode": {
    "name": "ipython",
    "version": 3
   },
   "file_extension": ".py",
   "mimetype": "text/x-python",
   "name": "python",
   "nbconvert_exporter": "python",
   "pygments_lexer": "ipython3",
   "version": "3.7.3"
  }
 },
 "nbformat": 4,
 "nbformat_minor": 1
}
